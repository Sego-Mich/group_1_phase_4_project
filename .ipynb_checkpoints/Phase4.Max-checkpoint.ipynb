{
 "cells": [
  {
   "cell_type": "markdown",
   "id": "3089c5b7-fca7-4017-afaa-33f035536655",
   "metadata": {},
   "source": [
    "# Business Understanding ### \n",
    "The purpose of this study is to assess consumer sentiment towards Apple and Android in tweets on the legacy Twitter platform usin crowdsourceded sentiment analysis. Our objective is to discover actionable findings by examining whether a tweet expresses a positive, negative, or neutral sentiment and identifying the target brand when emotion is evoked. By gaining a deep insight into the public mood dynamics around these top brands, stakeholders will be able to optimize product line extensions, promotional campaigns, and competitive placement.\n",
    "\n",
    "The company can more effectively handle consumer sentiment, customize brand messages, and pro-actively react to shifts in the market using transforming raw emotional responses from tweets into systematic analytcs.\n",
    "\n"
   ]
  },
  {
   "cell_type": "markdown",
   "id": "78402ebe-133c-4d96-97ea-3d56302a0469",
   "metadata": {},
   "source": [
    "## Objectives\n",
    "1. **Data Preprocessing and Cleaning**  \n",
    "   - Removal of noise from raw tweet texts by cleaning and normalizing the data (e.g., misspellings, stop‑word removal, tokenization).\n",
    "   - Cleaning the sentiment‑analysis dataset so that all tweets share the same format.\n",
    "\n",
    "2. **Sentiment Classification Development**  \n",
    "   - Developing and training a sentiment‑analysis model that can assign positive, negative, or neutral sentiment to each tweet.  \n",
    "   - Validating the model on a held‑out sample of tweets to ensure accuracy and robustness.\n",
    "\n",
    "3. **Target Brand Identification**  \n",
    "   - Using NLP techniques to accurately extract and tag target brands within tweets so that sentiment is allocated correctly to “Apple” or “Android.”\n",
    "   -  Addressing entity‑recognition challenges, such as brand mentions embedded in user‑generated sentences or hashtags.\n",
    "\n",
    "4. **Performance Evaluation and Optimization**  \n",
    "   - Tracking of key metrics (accuracy, precision, recall, F1‑score) to measure model effectiveness.  \n",
    "   - Iteration on both model architecture and preprocessing pipeline based on performance feedback.\n",
    "\n",
    "5. **Visualization and Reporting**  \n",
    "   - Creation of dashboards and visualizations to communicate sentiment trends, comparative brand analyses, and key insights.\n",
    "   - Provide written reports with clear, actionable recommendations for stakeholders.\n",
    "\n",
    "6. **Actionable Business Insights**  \n",
    "   - Translating analytical findings into strategic recommendations for marketing, product development, and competitive positioning.\n",
    "   -  Ensuring insights drive decision‑making and future strategy.\n"
   ]
  },
  {
   "cell_type": "markdown",
   "id": "62a48495-0c28-41ba-afc5-e04a9996a0c5",
   "metadata": {},
   "source": [
    "## Data Understanding"
   ]
  },
  {
   "cell_type": "code",
   "execution_count": 4,
   "id": "451d9cee-7fbb-41bc-96ce-c40d755a153a",
   "metadata": {},
   "outputs": [
    {
     "name": "stderr",
     "output_type": "stream",
     "text": [
      "[nltk_data] Downloading package punkt to\n",
      "[nltk_data]     C:\\Users\\USER\\AppData\\Roaming\\nltk_data...\n",
      "[nltk_data]   Package punkt is already up-to-date!\n",
      "[nltk_data] Downloading package stopwords to\n",
      "[nltk_data]     C:\\Users\\USER\\AppData\\Roaming\\nltk_data...\n",
      "[nltk_data]   Package stopwords is already up-to-date!\n",
      "[nltk_data] Downloading package wordnet to\n",
      "[nltk_data]     C:\\Users\\USER\\AppData\\Roaming\\nltk_data...\n",
      "[nltk_data]   Package wordnet is already up-to-date!\n",
      "[nltk_data] Downloading package vader_lexicon to\n",
      "[nltk_data]     C:\\Users\\USER\\AppData\\Roaming\\nltk_data...\n",
      "[nltk_data]   Package vader_lexicon is already up-to-date!\n"
     ]
    }
   ],
   "source": [
    "#Importing necessary libraries\n",
    "import numpy as np\n",
    "import pandas as pd\n",
    "from mpl_toolkits.mplot3d import Axes3D\n",
    "import matplotlib.pyplot as plt\n",
    "%matplotlib inline\n",
    "from sklearn.manifold import TSNE\n",
    "import nltk\n",
    "nltk.download('punkt')\n",
    "nltk.download('stopwords')\n",
    "nltk.download('wordnet')\n",
    "nltk.download('vader_lexicon')\n",
    "from nltk.sentiment.vader import SentimentIntensityAnalyzer\n",
    "from nltk.corpus import stopwords\n",
    "from nltk.tokenize import RegexpTokenizer\n",
    "from nltk.stem import WordNetLemmatizer\n",
    "from sklearn.feature_extraction.text import CountVectorizer\n",
    "from sklearn.feature_extraction.text import TfidfTransformer"
   ]
  },
  {
   "cell_type": "code",
   "execution_count": 5,
   "id": "b534b7fd-1b16-4b11-b45e-4e22bc80e3f8",
   "metadata": {},
   "outputs": [
    {
     "data": {
      "text/html": [
       "<div>\n",
       "<style scoped>\n",
       "    .dataframe tbody tr th:only-of-type {\n",
       "        vertical-align: middle;\n",
       "    }\n",
       "\n",
       "    .dataframe tbody tr th {\n",
       "        vertical-align: top;\n",
       "    }\n",
       "\n",
       "    .dataframe thead th {\n",
       "        text-align: right;\n",
       "    }\n",
       "</style>\n",
       "<table border=\"1\" class=\"dataframe\">\n",
       "  <thead>\n",
       "    <tr style=\"text-align: right;\">\n",
       "      <th></th>\n",
       "      <th>tweet_text</th>\n",
       "      <th>emotion_in_tweet_is_directed_at</th>\n",
       "      <th>is_there_an_emotion_directed_at_a_brand_or_product</th>\n",
       "    </tr>\n",
       "  </thead>\n",
       "  <tbody>\n",
       "    <tr>\n",
       "      <th>0</th>\n",
       "      <td>.@wesley83 I have a 3G iPhone. After 3 hrs twe...</td>\n",
       "      <td>iPhone</td>\n",
       "      <td>Negative emotion</td>\n",
       "    </tr>\n",
       "    <tr>\n",
       "      <th>1</th>\n",
       "      <td>@jessedee Know about @fludapp ? Awesome iPad/i...</td>\n",
       "      <td>iPad or iPhone App</td>\n",
       "      <td>Positive emotion</td>\n",
       "    </tr>\n",
       "    <tr>\n",
       "      <th>2</th>\n",
       "      <td>@swonderlin Can not wait for #iPad 2 also. The...</td>\n",
       "      <td>iPad</td>\n",
       "      <td>Positive emotion</td>\n",
       "    </tr>\n",
       "    <tr>\n",
       "      <th>3</th>\n",
       "      <td>@sxsw I hope this year's festival isn't as cra...</td>\n",
       "      <td>iPad or iPhone App</td>\n",
       "      <td>Negative emotion</td>\n",
       "    </tr>\n",
       "    <tr>\n",
       "      <th>4</th>\n",
       "      <td>@sxtxstate great stuff on Fri #SXSW: Marissa M...</td>\n",
       "      <td>Google</td>\n",
       "      <td>Positive emotion</td>\n",
       "    </tr>\n",
       "  </tbody>\n",
       "</table>\n",
       "</div>"
      ],
      "text/plain": [
       "                                          tweet_text  \\\n",
       "0  .@wesley83 I have a 3G iPhone. After 3 hrs twe...   \n",
       "1  @jessedee Know about @fludapp ? Awesome iPad/i...   \n",
       "2  @swonderlin Can not wait for #iPad 2 also. The...   \n",
       "3  @sxsw I hope this year's festival isn't as cra...   \n",
       "4  @sxtxstate great stuff on Fri #SXSW: Marissa M...   \n",
       "\n",
       "  emotion_in_tweet_is_directed_at  \\\n",
       "0                          iPhone   \n",
       "1              iPad or iPhone App   \n",
       "2                            iPad   \n",
       "3              iPad or iPhone App   \n",
       "4                          Google   \n",
       "\n",
       "  is_there_an_emotion_directed_at_a_brand_or_product  \n",
       "0                                   Negative emotion  \n",
       "1                                   Positive emotion  \n",
       "2                                   Positive emotion  \n",
       "3                                   Negative emotion  \n",
       "4                                   Positive emotion  "
      ]
     },
     "execution_count": 5,
     "metadata": {},
     "output_type": "execute_result"
    }
   ],
   "source": [
    "data = pd.read_csv('judge-1377884607_tweet_product_company.csv', encoding ='latin1')\n",
    "data.head()"
   ]
  },
  {
   "cell_type": "code",
   "execution_count": 6,
   "id": "ef37e27d-1dfb-446d-805d-c05e8a43e62c",
   "metadata": {},
   "outputs": [
    {
     "name": "stdout",
     "output_type": "stream",
     "text": [
      "Dataset shape: (9093, 3)\n"
     ]
    }
   ],
   "source": [
    "print (\"Dataset shape:\", data.shape)"
   ]
  },
  {
   "cell_type": "code",
   "execution_count": 7,
   "id": "6ed316bd-643a-4db2-bec6-fc3831e5fa4d",
   "metadata": {},
   "outputs": [
    {
     "name": "stdout",
     "output_type": "stream",
     "text": [
      "<class 'pandas.core.frame.DataFrame'>\n",
      "RangeIndex: 9093 entries, 0 to 9092\n",
      "Data columns (total 3 columns):\n",
      " #   Column                                              Non-Null Count  Dtype \n",
      "---  ------                                              --------------  ----- \n",
      " 0   tweet_text                                          9092 non-null   object\n",
      " 1   emotion_in_tweet_is_directed_at                     3291 non-null   object\n",
      " 2   is_there_an_emotion_directed_at_a_brand_or_product  9093 non-null   object\n",
      "dtypes: object(3)\n",
      "memory usage: 213.2+ KB\n"
     ]
    }
   ],
   "source": [
    "data.info()"
   ]
  },
  {
   "cell_type": "code",
   "execution_count": 8,
   "id": "98c3954f-0a75-4441-969f-d2d7eac826c6",
   "metadata": {},
   "outputs": [],
   "source": [
    "#Seems like the 'emotion in tweet is directed at' column has roughly 64% of missing values"
   ]
  },
  {
   "cell_type": "code",
   "execution_count": 9,
   "id": "8d3b1cb6-4ce6-4252-9316-20bfe4ba1441",
   "metadata": {},
   "outputs": [
    {
     "data": {
      "text/html": [
       "<div>\n",
       "<style scoped>\n",
       "    .dataframe tbody tr th:only-of-type {\n",
       "        vertical-align: middle;\n",
       "    }\n",
       "\n",
       "    .dataframe tbody tr th {\n",
       "        vertical-align: top;\n",
       "    }\n",
       "\n",
       "    .dataframe thead th {\n",
       "        text-align: right;\n",
       "    }\n",
       "</style>\n",
       "<table border=\"1\" class=\"dataframe\">\n",
       "  <thead>\n",
       "    <tr style=\"text-align: right;\">\n",
       "      <th></th>\n",
       "      <th>tweet_text</th>\n",
       "      <th>emotion_in_tweet_is_directed_at</th>\n",
       "      <th>is_there_an_emotion_directed_at_a_brand_or_product</th>\n",
       "    </tr>\n",
       "  </thead>\n",
       "  <tbody>\n",
       "    <tr>\n",
       "      <th>count</th>\n",
       "      <td>9092</td>\n",
       "      <td>3291</td>\n",
       "      <td>9093</td>\n",
       "    </tr>\n",
       "    <tr>\n",
       "      <th>unique</th>\n",
       "      <td>9065</td>\n",
       "      <td>9</td>\n",
       "      <td>4</td>\n",
       "    </tr>\n",
       "    <tr>\n",
       "      <th>top</th>\n",
       "      <td>RT @mention Marissa Mayer: Google Will Connect...</td>\n",
       "      <td>iPad</td>\n",
       "      <td>No emotion toward brand or product</td>\n",
       "    </tr>\n",
       "    <tr>\n",
       "      <th>freq</th>\n",
       "      <td>5</td>\n",
       "      <td>946</td>\n",
       "      <td>5389</td>\n",
       "    </tr>\n",
       "  </tbody>\n",
       "</table>\n",
       "</div>"
      ],
      "text/plain": [
       "                                               tweet_text  \\\n",
       "count                                                9092   \n",
       "unique                                               9065   \n",
       "top     RT @mention Marissa Mayer: Google Will Connect...   \n",
       "freq                                                    5   \n",
       "\n",
       "       emotion_in_tweet_is_directed_at  \\\n",
       "count                             3291   \n",
       "unique                               9   \n",
       "top                               iPad   \n",
       "freq                               946   \n",
       "\n",
       "       is_there_an_emotion_directed_at_a_brand_or_product  \n",
       "count                                                9093  \n",
       "unique                                                  4  \n",
       "top                    No emotion toward brand or product  \n",
       "freq                                                 5389  "
      ]
     },
     "execution_count": 9,
     "metadata": {},
     "output_type": "execute_result"
    }
   ],
   "source": [
    "data.describe()"
   ]
  },
  {
   "cell_type": "markdown",
   "id": "0d59a565-1956-4b94-961e-8d2c8a248af4",
   "metadata": {},
   "source": [
    "***Since we have over 60% of missing values in the ' emotion is directed at' column, we will assume the sentiments were directed toward any specific brand and fill the missing data with 'None'.***"
   ]
  },
  {
   "cell_type": "code",
   "execution_count": 11,
   "id": "bafca366-5abf-467e-8b7a-d773a5d040b5",
   "metadata": {},
   "outputs": [
    {
     "name": "stdout",
     "output_type": "stream",
     "text": [
      "<class 'pandas.core.frame.DataFrame'>\n",
      "RangeIndex: 9093 entries, 0 to 9092\n",
      "Data columns (total 3 columns):\n",
      " #   Column                                              Non-Null Count  Dtype \n",
      "---  ------                                              --------------  ----- \n",
      " 0   tweet_text                                          9092 non-null   object\n",
      " 1   emotion_in_tweet_is_directed_at                     9093 non-null   object\n",
      " 2   is_there_an_emotion_directed_at_a_brand_or_product  9093 non-null   object\n",
      "dtypes: object(3)\n",
      "memory usage: 213.2+ KB\n"
     ]
    }
   ],
   "source": [
    "data['emotion_in_tweet_is_directed_at'] = data['emotion_in_tweet_is_directed_at'].fillna('None')\n",
    "data.info()"
   ]
  },
  {
   "cell_type": "code",
   "execution_count": 12,
   "id": "b8974fbb-a654-4103-b40b-15d43b462bde",
   "metadata": {},
   "outputs": [
    {
     "name": "stdout",
     "output_type": "stream",
     "text": [
      "<class 'pandas.core.frame.DataFrame'>\n",
      "Index: 9092 entries, 0 to 9092\n",
      "Data columns (total 3 columns):\n",
      " #   Column                                              Non-Null Count  Dtype \n",
      "---  ------                                              --------------  ----- \n",
      " 0   tweet_text                                          9092 non-null   object\n",
      " 1   emotion_in_tweet_is_directed_at                     9092 non-null   object\n",
      " 2   is_there_an_emotion_directed_at_a_brand_or_product  9092 non-null   object\n",
      "dtypes: object(3)\n",
      "memory usage: 284.1+ KB\n"
     ]
    }
   ],
   "source": [
    "data = data.dropna(subset=['tweet_text'])\n",
    "data.info()"
   ]
  },
  {
   "cell_type": "markdown",
   "id": "53aa4d43-3e12-408e-af19-96dc5f88632e",
   "metadata": {},
   "source": [
    "# ***Cleaning the text data***"
   ]
  },
  {
   "cell_type": "code",
   "execution_count": 14,
   "id": "bbe64c5e-847e-4ea9-a921-3184959158ef",
   "metadata": {},
   "outputs": [],
   "source": [
    "#creating a function for the cleaning to prevent data leaks\n",
    "def preprocess_text(text):\n",
    "    text = text.lower()\n",
    "    tokenizer = RegexpTokenizer(r'\\#\\w+|\\@\\w+|[\\w\\']+|\\$[\\d\\.]+|\\S+')\n",
    "    tokens = tokenizer.tokenize(text)\n",
    "    stop_words = set(stopwords.words('english'))\n",
    "    filtered_tokens = [token for token in tokens if token.isalpha() and token not in stop_words]\n",
    "    lemmatizer = WordNetLemmatizer()\n",
    "    lemmatized_tokens = [lemmatizer.lemmatize(token) for token in filtered_tokens]\n",
    "    return lemmatized_tokens"
   ]
  },
  {
   "cell_type": "code",
   "execution_count": 15,
   "id": "0fc6167c-049c-461e-b99d-03be839beb1c",
   "metadata": {},
   "outputs": [
    {
     "name": "stdout",
     "output_type": "stream",
     "text": [
      "                                          tweet_text  \\\n",
      "0  .@wesley83 I have a 3G iPhone. After 3 hrs twe...   \n",
      "1  @jessedee Know about @fludapp ? Awesome iPad/i...   \n",
      "2  @swonderlin Can not wait for #iPad 2 also. The...   \n",
      "3  @sxsw I hope this year's festival isn't as cra...   \n",
      "4  @sxtxstate great stuff on Fri #SXSW: Marissa M...   \n",
      "\n",
      "                                        cleaned_text  \n",
      "0  [iphone, hr, tweeting, dead, need, upgrade, pl...  \n",
      "1  [know, awesome, ipad, app, likely, appreciate,...  \n",
      "2                                 [wait, also, sale]  \n",
      "3              [hope, festival, crashy, iphone, app]  \n",
      "4  [great, stuff, fri, marissa, mayer, tim, book,...  \n"
     ]
    }
   ],
   "source": [
    "data['cleaned_text'] = data['tweet_text'].apply(preprocess_text)\n",
    "print(data[['tweet_text', 'cleaned_text']].head())"
   ]
  },
  {
   "cell_type": "code",
   "execution_count": 16,
   "id": "d11d475f-a613-4e80-b166-0111de32c5cb",
   "metadata": {},
   "outputs": [
    {
     "data": {
      "text/html": [
       "<div>\n",
       "<style scoped>\n",
       "    .dataframe tbody tr th:only-of-type {\n",
       "        vertical-align: middle;\n",
       "    }\n",
       "\n",
       "    .dataframe tbody tr th {\n",
       "        vertical-align: top;\n",
       "    }\n",
       "\n",
       "    .dataframe thead th {\n",
       "        text-align: right;\n",
       "    }\n",
       "</style>\n",
       "<table border=\"1\" class=\"dataframe\">\n",
       "  <thead>\n",
       "    <tr style=\"text-align: right;\">\n",
       "      <th></th>\n",
       "      <th>tweet_text</th>\n",
       "      <th>emotion_in_tweet_is_directed_at</th>\n",
       "      <th>is_there_an_emotion_directed_at_a_brand_or_product</th>\n",
       "      <th>cleaned_text</th>\n",
       "    </tr>\n",
       "  </thead>\n",
       "  <tbody>\n",
       "    <tr>\n",
       "      <th>0</th>\n",
       "      <td>.@wesley83 I have a 3G iPhone. After 3 hrs twe...</td>\n",
       "      <td>iPhone</td>\n",
       "      <td>Negative emotion</td>\n",
       "      <td>[iphone, hr, tweeting, dead, need, upgrade, pl...</td>\n",
       "    </tr>\n",
       "    <tr>\n",
       "      <th>1</th>\n",
       "      <td>@jessedee Know about @fludapp ? Awesome iPad/i...</td>\n",
       "      <td>iPad or iPhone App</td>\n",
       "      <td>Positive emotion</td>\n",
       "      <td>[know, awesome, ipad, app, likely, appreciate,...</td>\n",
       "    </tr>\n",
       "    <tr>\n",
       "      <th>2</th>\n",
       "      <td>@swonderlin Can not wait for #iPad 2 also. The...</td>\n",
       "      <td>iPad</td>\n",
       "      <td>Positive emotion</td>\n",
       "      <td>[wait, also, sale]</td>\n",
       "    </tr>\n",
       "    <tr>\n",
       "      <th>3</th>\n",
       "      <td>@sxsw I hope this year's festival isn't as cra...</td>\n",
       "      <td>iPad or iPhone App</td>\n",
       "      <td>Negative emotion</td>\n",
       "      <td>[hope, festival, crashy, iphone, app]</td>\n",
       "    </tr>\n",
       "    <tr>\n",
       "      <th>4</th>\n",
       "      <td>@sxtxstate great stuff on Fri #SXSW: Marissa M...</td>\n",
       "      <td>Google</td>\n",
       "      <td>Positive emotion</td>\n",
       "      <td>[great, stuff, fri, marissa, mayer, tim, book,...</td>\n",
       "    </tr>\n",
       "  </tbody>\n",
       "</table>\n",
       "</div>"
      ],
      "text/plain": [
       "                                          tweet_text  \\\n",
       "0  .@wesley83 I have a 3G iPhone. After 3 hrs twe...   \n",
       "1  @jessedee Know about @fludapp ? Awesome iPad/i...   \n",
       "2  @swonderlin Can not wait for #iPad 2 also. The...   \n",
       "3  @sxsw I hope this year's festival isn't as cra...   \n",
       "4  @sxtxstate great stuff on Fri #SXSW: Marissa M...   \n",
       "\n",
       "  emotion_in_tweet_is_directed_at  \\\n",
       "0                          iPhone   \n",
       "1              iPad or iPhone App   \n",
       "2                            iPad   \n",
       "3              iPad or iPhone App   \n",
       "4                          Google   \n",
       "\n",
       "  is_there_an_emotion_directed_at_a_brand_or_product  \\\n",
       "0                                   Negative emotion   \n",
       "1                                   Positive emotion   \n",
       "2                                   Positive emotion   \n",
       "3                                   Negative emotion   \n",
       "4                                   Positive emotion   \n",
       "\n",
       "                                        cleaned_text  \n",
       "0  [iphone, hr, tweeting, dead, need, upgrade, pl...  \n",
       "1  [know, awesome, ipad, app, likely, appreciate,...  \n",
       "2                                 [wait, also, sale]  \n",
       "3              [hope, festival, crashy, iphone, app]  \n",
       "4  [great, stuff, fri, marissa, mayer, tim, book,...  "
      ]
     },
     "execution_count": 16,
     "metadata": {},
     "output_type": "execute_result"
    }
   ],
   "source": [
    "data.head()"
   ]
  },
  {
   "cell_type": "code",
   "execution_count": 25,
   "id": "bfc6c31a-a032-4588-8144-536a7684dcc8",
   "metadata": {},
   "outputs": [
    {
     "data": {
      "image/png": "[encoded data removed]",
      "text/plain": [
       "<Figure size 640x480 with 1 Axes>"
      ]
     },
     "metadata": {},
     "output_type": "display_data"
    }
   ],
   "source": [
    "import seaborn as sns\n",
    "sns.countplot(data=data, x='is_there_an_emotion_directed_at_a_brand_or_product')\n",
    "plt.title('Tweet Sentiment Distribution')\n",
    "plt.xlabel('Sentiment')\n",
    "plt.ylabel('Count')\n",
    "plt.xticks(rotation=45)\n",
    "plt.show()"
   ]
  },
  {
   "cell_type": "code",
   "execution_count": 27,
   "id": "ea67955b-9c7c-4715-afe4-c0a5e7af2f0e",
   "metadata": {},
   "outputs": [
    {
     "data": {
      "image/png": "[encoded data removed]",
      "text/plain": [
       "<Figure size 640x480 with 1 Axes>"
      ]
     },
     "metadata": {},
     "output_type": "display_data"
    }
   ],
   "source": [
    "sns.countplot(data=data, x='emotion_in_tweet_is_directed_at')\n",
    "plt.title('Distribution of Brands/Products Mentioned')\n",
    "plt.xlabel('Brand/Product')\n",
    "plt.ylabel('Count')\n",
    "plt.xticks(rotation=45)\n",
    "plt.show()"
   ]
  },
  {
   "cell_type": "markdown",
   "id": "ee5bc595-4e91-439b-ad1d-a98da09952ac",
   "metadata": {},
   "source": [
    "**We have now stripped down the tweet text into smaller units(tokens). We can therefore vectorize the cleaned text which is a numerical representation of the tokens to capture the semantic meanings and relationship between words.**"
   ]
  },
  {
   "cell_type": "code",
   "execution_count": 29,
   "id": "f0e0e8e7-82cd-4472-97de-5adbd40d7273",
   "metadata": {},
   "outputs": [
    {
     "name": "stdout",
     "output_type": "stream",
     "text": [
      "                                          tweet_text  \\\n",
      "0  .@wesley83 I have a 3G iPhone. After 3 hrs twe...   \n",
      "1  @jessedee Know about @fludapp ? Awesome iPad/i...   \n",
      "2  @swonderlin Can not wait for #iPad 2 also. The...   \n",
      "3  @sxsw I hope this year's festival isn't as cra...   \n",
      "4  @sxtxstate great stuff on Fri #SXSW: Marissa M...   \n",
      "\n",
      "  emotion_in_tweet_is_directed_at  \\\n",
      "0                          iPhone   \n",
      "1              iPad or iPhone App   \n",
      "2                            iPad   \n",
      "3              iPad or iPhone App   \n",
      "4                          Google   \n",
      "\n",
      "  is_there_an_emotion_directed_at_a_brand_or_product  \\\n",
      "0                                   Negative emotion   \n",
      "1                                   Positive emotion   \n",
      "2                                   Positive emotion   \n",
      "3                                   Negative emotion   \n",
      "4                                   Positive emotion   \n",
      "\n",
      "                                        cleaned_text  \\\n",
      "0  [iphone, hr, tweeting, dead, need, upgrade, pl...   \n",
      "1  [know, awesome, ipad, app, likely, appreciate,...   \n",
      "2                                 [wait, also, sale]   \n",
      "3              [hope, festival, crashy, iphone, app]   \n",
      "4  [great, stuff, fri, marissa, mayer, tim, book,...   \n",
      "\n",
      "                                    cleaned_text_str  \n",
      "0  iphone hr tweeting dead need upgrade plugin st...  \n",
      "1  know awesome ipad app likely appreciate design...  \n",
      "2                                     wait also sale  \n",
      "3                    hope festival crashy iphone app  \n",
      "4  great stuff fri marissa mayer tim book matt mu...  \n",
      "Vocabulary: ['aapl' 'aaron' 'ab' ... 'åç' 'åè' 'ìù']\n"
     ]
    }
   ],
   "source": [
    "#count vectorization\n",
    "data['cleaned_text_str'] = data['cleaned_text'].apply(lambda tokens: \" \".join(tokens)\n",
    "                                                   if isinstance(tokens, list) else tokens)\n",
    "print (data.head())\n",
    "vectorizer = CountVectorizer()\n",
    "# Determining our X and y variables\n",
    "X = vectorizer.fit_transform(data['cleaned_text_str'])\n",
    "# Retrieving the vocabulary (unique tokens)\n",
    "vocabulary = vectorizer.get_feature_names_out()\n",
    "print(\"Vocabulary:\", vocabulary)"
   ]
  },
  {
   "cell_type": "code",
   "execution_count": 31,
   "id": "e952739e-5403-4cc8-80e8-319e81f196ab",
   "metadata": {},
   "outputs": [
    {
     "name": "stdout",
     "output_type": "stream",
     "text": [
      "  (0, 6598)\t0.3812783768907172\n",
      "  (0, 6481)\t0.34970803700202213\n",
      "  (0, 5901)\t0.38505780449010707\n",
      "  (0, 4661)\t0.43378786985174894\n",
      "  (0, 4124)\t0.23875345692912758\n",
      "  (0, 3268)\t0.15142989609787644\n",
      "  (0, 3002)\t0.4244896647641578\n",
      "  (0, 1552)\t0.3684616088863313\n",
      "  (1, 3609)\t0.42543437165832443\n",
      "  (1, 3458)\t0.27672894281766774\n",
      "  (1, 3262)\t0.13963002554223833\n",
      "  (1, 2626)\t0.33224601366250006\n",
      "  (1, 2465)\t0.24509713583326265\n",
      "  (1, 1638)\t0.29995115335980055\n",
      "  (1, 444)\t0.3008544285213306\n",
      "  (1, 287)\t0.4736499753201427\n",
      "  (1, 270)\t0.1982153074559718\n",
      "  (1, 180)\t0.32916931084789347\n",
      "  (2, 6733)\t0.5606723380034568\n",
      "  (2, 5340)\t0.6093382137987695\n",
      "  (2, 180)\t0.5606723380034568\n",
      "  (3, 3268)\t0.21914293115385072\n",
      "  (3, 2971)\t0.45214060341718654\n",
      "  (3, 2291)\t0.48848709038737603\n",
      "  (3, 1406)\t0.6654601478346531\n",
      "  :\t:\n",
      "  (9089, 5162)\t0.2752842395779739\n",
      "  (9089, 5125)\t0.28435683103128384\n",
      "  (9089, 4725)\t0.2406374491967543\n",
      "  (9089, 4583)\t0.5687136620625677\n",
      "  (9089, 4314)\t0.2971439304952386\n",
      "  (9089, 4144)\t0.2059906588155348\n",
      "  (9089, 2261)\t0.2971439304952386\n",
      "  (9089, 1535)\t0.19439377108143915\n",
      "  (9089, 98)\t0.2971439304952386\n",
      "  (9090, 7012)\t0.3842290048265625\n",
      "  (9090, 6807)\t0.259115356977344\n",
      "  (9090, 6670)\t0.2883411104173011\n",
      "  (9090, 6285)\t0.180445214303311\n",
      "  (9090, 4146)\t0.12853982861977925\n",
      "  (9090, 3268)\t0.12108556204949487\n",
      "  (9090, 2991)\t0.235357007088629\n",
      "  (9090, 2281)\t0.3276966215269381\n",
      "  (9090, 1487)\t0.2796316665650094\n",
      "  (9090, 1373)\t0.28463132728666785\n",
      "  (9090, 1211)\t0.3842290048265625\n",
      "  (9090, 455)\t0.23132612391693722\n",
      "  (9090, 376)\t0.3394281510234127\n",
      "  (9091, 6204)\t0.6827860453900303\n",
      "  (9091, 4263)\t0.6827860453900303\n",
      "  (9091, 2663)\t0.26001236978514475\n"
     ]
    }
   ],
   "source": [
    "#converting the count vectors into termfrequency-inverse density functions to weigh up the words used\n",
    "tfidf_transformer = TfidfTransformer()\n",
    "X_tfidf = tfidf_transformer.fit_transform(X)\n",
    "print(X_tfidf)"
   ]
  },
  {
   "cell_type": "code",
   "execution_count": 35,
   "id": "6c439a77-05d0-4360-bddc-ef523312a581",
   "metadata": {},
   "outputs": [
    {
     "name": "stdout",
     "output_type": "stream",
     "text": [
      "Top 10 features for document 0:\n",
      "plugin: 0.4338\n",
      "hr: 0.4245\n",
      "station: 0.3851\n",
      "upgrade: 0.3813\n",
      "dead: 0.3685\n",
      "tweeting: 0.3497\n",
      "need: 0.2388\n",
      "iphone: 0.1514\n",
      "aapl: 0.0000\n",
      "aaron: 0.0000\n",
      "\n",
      "Top 10 features for document 1:\n",
      "appreciate: 0.4736\n",
      "likely: 0.4254\n",
      "giving: 0.3322\n",
      "also: 0.3292\n",
      "awesome: 0.3009\n",
      "design: 0.3000\n",
      "know: 0.2767\n",
      "free: 0.2451\n",
      "app: 0.1982\n",
      "ipad: 0.1396\n",
      "\n",
      "Top 10 features for document 2:\n",
      "sale: 0.6093\n",
      "also: 0.5607\n",
      "wait: 0.5607\n",
      "aapl: 0.0000\n",
      "aaron: 0.0000\n",
      "ab: 0.0000\n",
      "abacus: 0.0000\n",
      "abandoned: 0.0000\n",
      "abba: 0.0000\n",
      "aber: 0.0000\n",
      "\n",
      "Top 10 features for document 3:\n",
      "crashy: 0.6655\n",
      "festival: 0.4885\n",
      "hope: 0.4521\n",
      "app: 0.2571\n",
      "iphone: 0.2191\n",
      "aapl: 0.0000\n",
      "aaron: 0.0000\n",
      "ab: 0.0000\n",
      "abacus: 0.0000\n",
      "abandoned: 0.0000\n",
      "\n",
      "Top 10 features for document 4:\n",
      "mullenweg: 0.4450\n",
      "fri: 0.3966\n",
      "matt: 0.3809\n",
      "tim: 0.3514\n",
      "stuff: 0.3238\n",
      "book: 0.3197\n",
      "marissa: 0.2411\n",
      "mayer: 0.2368\n",
      "great: 0.2344\n",
      "aapl: 0.0000\n",
      "\n",
      "   aapl  aaron   ab  abacus  abandoned  abba  aber  ability  able  abnormal  \\\n",
      "0   0.0    0.0  0.0     0.0        0.0   0.0   0.0      0.0   0.0       0.0   \n",
      "1   0.0    0.0  0.0     0.0        0.0   0.0   0.0      0.0   0.0       0.0   \n",
      "2   0.0    0.0  0.0     0.0        0.0   0.0   0.0      0.0   0.0       0.0   \n",
      "3   0.0    0.0  0.0     0.0        0.0   0.0   0.0      0.0   0.0       0.0   \n",
      "4   0.0    0.0  0.0     0.0        0.0   0.0   0.0      0.0   0.0       0.0   \n",
      "\n",
      "   ...  zombie  zomg  zone  zoom  zuckerberg  zynga  zzzs   åç   åè   ìù  \n",
      "0  ...     0.0   0.0   0.0   0.0         0.0    0.0   0.0  0.0  0.0  0.0  \n",
      "1  ...     0.0   0.0   0.0   0.0         0.0    0.0   0.0  0.0  0.0  0.0  \n",
      "2  ...     0.0   0.0   0.0   0.0         0.0    0.0   0.0  0.0  0.0  0.0  \n",
      "3  ...     0.0   0.0   0.0   0.0         0.0    0.0   0.0  0.0  0.0  0.0  \n",
      "4  ...     0.0   0.0   0.0   0.0         0.0    0.0   0.0  0.0  0.0  0.0  \n",
      "\n",
      "[5 rows x 7052 columns]\n"
     ]
    }
   ],
   "source": [
    "X_tfidf_dense = X_tfidf.toarray()\n",
    "def print_top_features(document_index, top_n=10):\n",
    "    scores = X_tfidf_dense[document_index]\n",
    "    \n",
    "    feature_scores = [(vocabulary[i], scores[i]) for i in range(len(vocabulary))]\n",
    "    \n",
    "    feature_scores.sort(key=lambda x: x[1], reverse=True)\n",
    "    \n",
    "    \n",
    "    print(f\"Top {top_n} features for document {document_index}:\")\n",
    "    for term, score in feature_scores[:top_n]:\n",
    "        print(f\"{term}: {score:.4f}\")\n",
    "    print()\n",
    "\n",
    "\n",
    "for i in range(min(5, X_tfidf.shape[0])):  \n",
    "    print_top_features(i)\n",
    "\n",
    "df = pd.DataFrame(X_tfidf_dense, columns=vocabulary)\n",
    "print(df.head())  "
   ]
  },
  {
   "cell_type": "code",
   "execution_count": 37,
   "id": "a9028511-1753-4a22-aeb2-461879549aaf",
   "metadata": {},
   "outputs": [],
   "source": [
    "#initializing sentiment analyzer\n",
    "sent = SentimentIntensityAnalyzer()"
   ]
  },
  {
   "cell_type": "code",
   "execution_count": 39,
   "id": "6c6eeff6-68e8-413f-82d3-62e136e8e5aa",
   "metadata": {},
   "outputs": [],
   "source": [
    "def get_sentiment_scores(text):\n",
    "    if isinstance(text, list):\n",
    "        text = ' '.join(text)\n",
    "    \n",
    "    return sent.polarity_scores(text)\n",
    "def get_sentiment_label(scores):\n",
    "    compound = scores['compound']\n",
    "    if compound >= 0.05:\n",
    "        return 'positive'\n",
    "    elif compound <= -0.05:\n",
    "        return 'negative'\n",
    "    else:\n",
    "        return 'neutral'"
   ]
  },
  {
   "cell_type": "code",
   "execution_count": 41,
   "id": "e57b26b8-6b49-447a-9324-b92ec893fd50",
   "metadata": {},
   "outputs": [],
   "source": [
    "# Apply sentiment analysis with the fixed function\n",
    "data['sentiment_scores'] = data['cleaned_text'].apply(get_sentiment_scores)"
   ]
  },
  {
   "cell_type": "code",
   "execution_count": 43,
   "id": "5b74ffee-a83c-489f-baf1-6434ac97b30c",
   "metadata": {},
   "outputs": [],
   "source": [
    "# Extract the compound score if you want it separately\n",
    "data['compound_score'] = data['sentiment_scores'].apply(lambda x: x['compound'])"
   ]
  },
  {
   "cell_type": "code",
   "execution_count": 45,
   "id": "07e84cfd-946a-429c-89ed-d252eb65dd34",
   "metadata": {},
   "outputs": [
    {
     "name": "stdout",
     "output_type": "stream",
     "text": [
      "                                          tweet_text  \\\n",
      "0  .@wesley83 I have a 3G iPhone. After 3 hrs twe...   \n",
      "1  @jessedee Know about @fludapp ? Awesome iPad/i...   \n",
      "2  @swonderlin Can not wait for #iPad 2 also. The...   \n",
      "3  @sxsw I hope this year's festival isn't as cra...   \n",
      "4  @sxtxstate great stuff on Fri #SXSW: Marissa M...   \n",
      "\n",
      "                                        cleaned_text  compound_score  \\\n",
      "0  [iphone, hr, tweeting, dead, need, upgrade, pl...         -0.6486   \n",
      "1  [know, awesome, ipad, app, likely, appreciate,...          0.9100   \n",
      "2                                 [wait, also, sale]          0.0000   \n",
      "3              [hope, festival, crashy, iphone, app]          0.7269   \n",
      "4  [great, stuff, fri, marissa, mayer, tim, book,...          0.6249   \n",
      "\n",
      "  sentiment_label  \n",
      "0        negative  \n",
      "1        positive  \n",
      "2         neutral  \n",
      "3        positive  \n",
      "4        positive  \n"
     ]
    }
   ],
   "source": [
    " #Apply sentiment labeling\n",
    "data['sentiment_label'] = data['sentiment_scores'].apply(get_sentiment_label)\n",
    "\n",
    "# Display the results\n",
    "print(data[['tweet_text', 'cleaned_text', 'compound_score', 'sentiment_label']].head())"
   ]
  },
  {
   "cell_type": "code",
   "execution_count": 47,
   "id": "15ccf67f-e506-4cf7-8370-72a1d8c002a4",
   "metadata": {},
   "outputs": [
    {
     "data": {
      "image/png": "[encoded data removed]",
      "text/plain": [
       "<Figure size 640x480 with 1 Axes>"
      ]
     },
     "metadata": {},
     "output_type": "display_data"
    },
    {
     "data": {
      "image/png": "[encoded data removed]",
      "text/plain": [
       "<Figure size 640x480 with 1 Axes>"
      ]
     },
     "metadata": {},
     "output_type": "display_data"
    }
   ],
   "source": [
    "sns.countplot(x='sentiment_label', data=data)\n",
    "plt.title(\"Sentiment Label Distribution\")\n",
    "plt.show()\n",
    "\n",
    "# Histogram of compound scores\n",
    "plt.hist(data['compound_score'], bins=20, edgecolor='k')\n",
    "plt.title(\"Distribution of Compound Scores\")\n",
    "plt.xlabel(\"Compound Score\")\n",
    "plt.ylabel(\"Frequency\")\n",
    "plt.show()"
   ]
  },
  {
   "cell_type": "markdown",
   "id": "49f84928-b1f2-4709-abfb-e84c6508c6e5",
   "metadata": {},
   "source": [
    "## Logistic regression model"
   ]
  },
  {
   "cell_type": "code",
   "execution_count": 49,
   "id": "63e80c80-e75a-4ec7-bb28-f46abf929a98",
   "metadata": {},
   "outputs": [
    {
     "name": "stdout",
     "output_type": "stream",
     "text": [
      "              precision    recall  f1-score   support\n",
      "\n",
      "    negative       0.96      0.33      0.50       326\n",
      "     neutral       0.79      0.90      0.84      1182\n",
      "    positive       0.85      0.88      0.86      1220\n",
      "\n",
      "    accuracy                           0.82      2728\n",
      "   macro avg       0.87      0.70      0.73      2728\n",
      "weighted avg       0.83      0.82      0.81      2728\n",
      "\n"
     ]
    }
   ],
   "source": [
    "#Splitting the data into training and testing data to an algorithm\n",
    "from sklearn.model_selection import train_test_split, cross_val_score, GridSearchCV\n",
    "from sklearn.metrics import accuracy_score, confusion_matrix,classification_report\n",
    "from sklearn.linear_model import LogisticRegression\n",
    "from sklearn.ensemble import BaggingClassifier, RandomForestClassifier\n",
    "from sklearn.tree import DecisionTreeClassifier\n",
    "from sklearn import metrics\n",
    "y = data['sentiment_label']\n",
    "X_train, X_test, y_train, y_test = train_test_split(X_tfidf, y, test_size=0.3, random_state=42)\n",
    "log_reg = LogisticRegression(random_state=42)\n",
    "log_reg.fit(X_train, y_train)\n",
    "\n",
    "y_pred = log_reg.predict(X_test)\n",
    "print(classification_report(y_test, y_pred))"
   ]
  },
  {
   "cell_type": "markdown",
   "id": "a7e1ee88-747b-4bbf-9884-4d40d013ed2b",
   "metadata": {},
   "source": [
    "***The logistic regression model corectly predicts the negative class 96% of the time but only has a recall of 33%. This means the model only captures 33% of the actual negative sentiment class. F1-score of 50% indicates clear imbalance this could be due to the under-representation of this class with only 326 instances. When the neutral and positive classes were predicted the model could accurately predict 79% & 85% ,respectively, correctly. The model could also capture 88% of real positive and 90% of real neutral sentiments***"
   ]
  },
  {
   "cell_type": "markdown",
   "id": "0e6ea367-7dbf-4adf-9b0b-ca94f0176457",
   "metadata": {},
   "source": [
    "## Random Forest"
   ]
  },
  {
   "cell_type": "code",
   "execution_count": 51,
   "id": "30bfbc7a-e409-413f-a411-150859360a4d",
   "metadata": {},
   "outputs": [],
   "source": [
    "param_grid = {\n",
    "    \"criterion\":[\"gini\",\"entropy\"],\n",
    "    \"max_depth\":[None,5,10,15],\n",
    "    \"min_samples_split\":[2,10],\n",
    "    \"min_samples_leaf\":[1,4,8]\n",
    "}"
   ]
  },
  {
   "cell_type": "code",
   "execution_count": 53,
   "id": "2d1e138b-83c7-4c96-8dba-f9d3dd8149ad",
   "metadata": {},
   "outputs": [
    {
     "name": "stdout",
     "output_type": "stream",
     "text": [
      "              precision    recall  f1-score   support\n",
      "\n",
      "    negative       0.97      0.41      0.57       326\n",
      "     neutral       0.76      0.97      0.86      1182\n",
      "    positive       0.94      0.83      0.88      1220\n",
      "\n",
      "    accuracy                           0.84      2728\n",
      "   macro avg       0.89      0.74      0.77      2728\n",
      "weighted avg       0.87      0.84      0.83      2728\n",
      "\n",
      "Accuracy: 0.842008797653959\n"
     ]
    }
   ],
   "source": [
    "forest = RandomForestClassifier(\n",
    "    n_estimators=200,\n",
    "    criterion='gini',\n",
    "    max_depth=20,\n",
    "    random_state=42,\n",
    "    n_jobs=-3\n",
    ")\n",
    "grid_search = GridSearchCV(\n",
    "    estimator=forest,\n",
    "    param_grid=param_grid,\n",
    "    cv=5,\n",
    "    scoring='accuracy',   \n",
    "    n_jobs=-1\n",
    ")\n",
    "grid_search.fit(X_train,y_train)\n",
    "\n",
    "\n",
    "y_pred = grid_search.predict(X_test)\n",
    "print(metrics.classification_report(y_test, y_pred))\n",
    "print(\"Accuracy:\", metrics.accuracy_score(y_test, y_pred))"
   ]
  },
  {
   "cell_type": "code",
   "execution_count": 55,
   "id": "751c16ea-92c7-4415-9430-0319761ab8fa",
   "metadata": {},
   "outputs": [
    {
     "name": "stdout",
     "output_type": "stream",
     "text": [
      "\n",
      "BaggingClassifier (DecisionTree, Gini) results:\n",
      "              precision    recall  f1-score   support\n",
      "\n",
      "    negative       0.91      0.46      0.61       326\n",
      "     neutral       0.78      0.98      0.87      1182\n",
      "    positive       0.95      0.84      0.89      1220\n",
      "\n",
      "    accuracy                           0.86      2728\n",
      "   macro avg       0.88      0.76      0.79      2728\n",
      "weighted avg       0.87      0.86      0.85      2728\n",
      "\n",
      "Accuracy: 0.8563049853372434\n"
     ]
    }
   ],
   "source": [
    "bag = BaggingClassifier(\n",
    "    estimator=DecisionTreeClassifier(\n",
    "        criterion='gini',\n",
    "        random_state=42\n",
    "    ),\n",
    "    n_estimators=100,     \n",
    "    max_samples=1.0,      \n",
    "    max_features=1.0,     \n",
    "    n_jobs=-1,          \n",
    "    random_state=123\n",
    ")\n",
    "bag.fit(X_train, y_train)\n",
    "y_pred_bag = bag.predict(X_test)\n",
    "\n",
    "print(\"\\nBaggingClassifier (DecisionTree, Gini) results:\")\n",
    "print(metrics.classification_report(y_test, y_pred_bag))\n",
    "print(\"Accuracy:\", metrics.accuracy_score(y_test, y_pred_bag))"
   ]
  },
  {
   "cell_type": "markdown",
   "id": "cb4add40-7b41-4b89-85c2-8d5b598c0b0f",
   "metadata": {},
   "source": [
    "## Neural Network"
   ]
  },
  {
   "cell_type": "code",
   "execution_count": null,
   "id": "7d4c31c4-639d-4a97-af31-af66c8737499",
   "metadata": {},
   "outputs": [],
   "source": []
  }
 ],
 "metadata": {
  "kernelspec": {
   "display_name": "Python 3 (ipykernel)",
   "language": "python",
   "name": "python3"
  },
  "language_info": {
   "codemirror_mode": {
    "name": "ipython",
    "version": 3
   },
   "file_extension": ".py",
   "mimetype": "text/x-python",
   "name": "python",
   "nbconvert_exporter": "python",
   "pygments_lexer": "ipython3",
   "version": "3.9.7"
  },
  "toc": {
   "base_numbering": 1,
   "nav_menu": {},
   "number_sections": true,
   "sideBar": true,
   "skip_h1_title": false,
   "title_cell": "Table of Contents",
   "title_sidebar": "Contents",
   "toc_cell": false,
   "toc_position": {},
   "toc_section_display": true,
   "toc_window_display": false
  }
 },
 "nbformat": 4,
 "nbformat_minor": 5
}
