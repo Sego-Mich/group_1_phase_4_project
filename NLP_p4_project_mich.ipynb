{
 "cells": [
  {
   "cell_type": "markdown",
   "metadata": {
    "id": "VoHeOMzqSw6J"
   },
   "source": [
    "# Business understanding\n",
    "In today’s digital age, social media platforms like Twitter provide a massive amount of real-time insights into consumer opinions, especially regarding products and services. For tech giants like Apple and Google, monitoring sentiment around their products can be a crucial business strategy. Understanding how consumers feel about their offerings—whether positively, negatively, or neutrally—helps inform marketing strategies, product development, and customer support."
   ]
  },
  {
   "cell_type": "markdown",
   "metadata": {
    "id": "rLzLaTb8WFaC"
   },
   "source": [
    "## Project overview\n",
    "This project aims to build a Natural Language Processing (NLP) model to analyze the sentiment of Tweets specifically related to Apple and Google products. The dataset consists of over 9,000 tweets that have been rated by human annotators as positive, negative, or neutral in sentiment. The goal is to create an accurate machine learning model capable of classifying these tweets based on the emotional tone of the content.\n",
    "\n",
    "The task is not just about automating sentiment analysis; it's about delivering actionable insights that can be used to understand customer feedback, inform decision-making processes, and possibly predict how future product releases might be received by consumers. By building a reliable sentiment analysis tool, businesses like Apple and Google can respond to customer feedback more effectively and refine their strategies accordingly."
   ]
  },
  {
   "cell_type": "markdown",
   "metadata": {
    "id": "jdyI-g6kWLOY"
   },
   "source": [
    "## Business problem\n",
    "Apple and Google are two of the most influential tech companies globally, with millions of users and customers who actively discuss their products on platforms like Twitter. However, manually analyzing sentiment in these discussions would be both time-consuming and impractical given the sheer volume of tweets. Therefore, automating sentiment analysis using an NLP model will allow both companies to process and understand consumer opinions quickly and at scale. This could give them a competitive edge by allowing for a timely response to customer feedback, identifying emerging issues, and improving customer satisfaction and brand loyalty"
   ]
  },
  {
   "cell_type": "markdown",
   "metadata": {
    "id": "b4uTUHneWUz7"
   },
   "source": [
    "## Project objectives\n",
    "### Main Objective\n",
    "\n",
    "- The primary objective is to develop an NLP-based machine learning model that can accurately classify the sentiment of tweets related to Apple and Google products as positive, negative, or neutral.\n",
    "### Specific Objectives\n",
    "\n"
   ]
  },
  {
   "cell_type": "markdown",
   "metadata": {
    "id": "G9fELbbLZY_T"
   },
   "source": [
    "## Justification\n",
    "Understanding sentiment at scale is critical for organizations in highly competitive industries like tech. By automating the analysis of millions of tweets related to Apple and Google products, companies can quickly gauge customer satisfaction, identify emerging trends, and proactively address negative sentiments. Sentiment analysis also allows these companies to measure the impact of new product releases, marketing campaigns, and public relations efforts."
   ]
  },
  {
   "cell_type": "markdown",
   "metadata": {
    "id": "_j3Y4hcKZeNG"
   },
   "source": [
    "## Questions "
   ]
  },
  {
   "cell_type": "markdown",
   "metadata": {
    "id": "ETMORyxuZovk"
   },
   "source": [
    "# Data understanding"
   ]
  },
  {
   "cell_type": "markdown",
   "metadata": {
    "id": "6LN7yQAgZr9K"
   },
   "source": [
    "## Data Collection\n",
    "The dataset for this project comes from [CrowdFlower](https://data.world/crowdflower/brands-and-product-emotions) and contains over 9,000 tweets labeled with sentiment (positive, negative, or neutral). These labeled examples provide a training set to build and evaluate the sentiment classification model. The data is enriched with various features such as tweet text, tweet ID, user ID, and the sentiment label, which is crucial for training the model.\n",
    "\n",
    "To further improve the model, external data such as newer tweets about Apple and Google products or additional labeled sentiment datasets might be useful for retraining or fine-tuning."
   ]
  },
  {
   "cell_type": "markdown",
   "metadata": {
    "id": "sNo_zYT2ZzTe"
   },
   "source": [
    "### Load libraries"
   ]
  },
  {
   "cell_type": "code",
   "execution_count": 42,
   "metadata": {},
   "outputs": [
    {
     "data": {
      "application/javascript": [
       "\n",
       "        if (window._pyforest_update_imports_cell) { window._pyforest_update_imports_cell('import seaborn as sns\\nimport nltk'); }\n",
       "    "
      ],
      "text/plain": [
       "<IPython.core.display.Javascript object>"
      ]
     },
     "metadata": {},
     "output_type": "display_data"
    },
    {
     "name": "stderr",
     "output_type": "stream",
     "text": [
      "[nltk_data] Downloading package wordnet to\n",
      "[nltk_data]     C:\\Users\\Mich\\AppData\\Roaming\\nltk_data...\n",
      "[nltk_data]   Package wordnet is already up-to-date!\n"
     ]
    }
   ],
   "source": [
    "import pandas as pd\n",
    "import matplotlib.pyplot as plt\n",
    "import re\n",
    "import json\n",
    "import emoji\n",
    "import string\n",
    "import warnings \n",
    "from nltk import FreqDist\n",
    "from nltk.corpus import stopwords \n",
    "from nltk.stem.wordnet import WordNetLemmatizer\n",
    "from nltk.tokenize import word_tokenize\n",
    "nltk.download('wordnet')\n",
    "\n",
    "warnings.filterwarnings(\"ignore\")"
   ]
  },
  {
   "cell_type": "markdown",
   "metadata": {
    "id": "dAgtDaHOZ1qW"
   },
   "source": [
    "### Load the data"
   ]
  },
  {
   "cell_type": "code",
   "execution_count": 43,
   "metadata": {},
   "outputs": [
    {
     "data": {
      "text/html": [
       "<div>\n",
       "<style scoped>\n",
       "    .dataframe tbody tr th:only-of-type {\n",
       "        vertical-align: middle;\n",
       "    }\n",
       "\n",
       "    .dataframe tbody tr th {\n",
       "        vertical-align: top;\n",
       "    }\n",
       "\n",
       "    .dataframe thead th {\n",
       "        text-align: right;\n",
       "    }\n",
       "</style>\n",
       "<table border=\"1\" class=\"dataframe\">\n",
       "  <thead>\n",
       "    <tr style=\"text-align: right;\">\n",
       "      <th></th>\n",
       "      <th>tweet_text</th>\n",
       "      <th>emotion_in_tweet_is_directed_at</th>\n",
       "      <th>is_there_an_emotion_directed_at_a_brand_or_product</th>\n",
       "    </tr>\n",
       "  </thead>\n",
       "  <tbody>\n",
       "    <tr>\n",
       "      <th>0</th>\n",
       "      <td>.@wesley83 I have a 3G iPhone. After 3 hrs twe...</td>\n",
       "      <td>iPhone</td>\n",
       "      <td>Negative emotion</td>\n",
       "    </tr>\n",
       "    <tr>\n",
       "      <th>1</th>\n",
       "      <td>@jessedee Know about @fludapp ? Awesome iPad/i...</td>\n",
       "      <td>iPad or iPhone App</td>\n",
       "      <td>Positive emotion</td>\n",
       "    </tr>\n",
       "    <tr>\n",
       "      <th>2</th>\n",
       "      <td>@swonderlin Can not wait for #iPad 2 also. The...</td>\n",
       "      <td>iPad</td>\n",
       "      <td>Positive emotion</td>\n",
       "    </tr>\n",
       "    <tr>\n",
       "      <th>3</th>\n",
       "      <td>@sxsw I hope this year's festival isn't as cra...</td>\n",
       "      <td>iPad or iPhone App</td>\n",
       "      <td>Negative emotion</td>\n",
       "    </tr>\n",
       "    <tr>\n",
       "      <th>4</th>\n",
       "      <td>@sxtxstate great stuff on Fri #SXSW: Marissa M...</td>\n",
       "      <td>Google</td>\n",
       "      <td>Positive emotion</td>\n",
       "    </tr>\n",
       "  </tbody>\n",
       "</table>\n",
       "</div>"
      ],
      "text/plain": [
       "                                          tweet_text  \\\n",
       "0  .@wesley83 I have a 3G iPhone. After 3 hrs twe...   \n",
       "1  @jessedee Know about @fludapp ? Awesome iPad/i...   \n",
       "2  @swonderlin Can not wait for #iPad 2 also. The...   \n",
       "3  @sxsw I hope this year's festival isn't as cra...   \n",
       "4  @sxtxstate great stuff on Fri #SXSW: Marissa M...   \n",
       "\n",
       "  emotion_in_tweet_is_directed_at  \\\n",
       "0                          iPhone   \n",
       "1              iPad or iPhone App   \n",
       "2                            iPad   \n",
       "3              iPad or iPhone App   \n",
       "4                          Google   \n",
       "\n",
       "  is_there_an_emotion_directed_at_a_brand_or_product  \n",
       "0                                   Negative emotion  \n",
       "1                                   Positive emotion  \n",
       "2                                   Positive emotion  \n",
       "3                                   Negative emotion  \n",
       "4                                   Positive emotion  "
      ]
     },
     "execution_count": 43,
     "metadata": {},
     "output_type": "execute_result"
    }
   ],
   "source": [
    "df = pd.read_csv(\"data/tweet_product_company.csv\", encoding=\"latin-1\")\n",
    "df.head()"
   ]
  },
  {
   "cell_type": "code",
   "execution_count": 44,
   "metadata": {},
   "outputs": [
    {
     "data": {
      "text/html": [
       "<div>\n",
       "<style scoped>\n",
       "    .dataframe tbody tr th:only-of-type {\n",
       "        vertical-align: middle;\n",
       "    }\n",
       "\n",
       "    .dataframe tbody tr th {\n",
       "        vertical-align: top;\n",
       "    }\n",
       "\n",
       "    .dataframe thead th {\n",
       "        text-align: right;\n",
       "    }\n",
       "</style>\n",
       "<table border=\"1\" class=\"dataframe\">\n",
       "  <thead>\n",
       "    <tr style=\"text-align: right;\">\n",
       "      <th></th>\n",
       "      <th>tweet_text</th>\n",
       "      <th>emotion_in_tweet_is_directed_at</th>\n",
       "      <th>is_there_an_emotion_directed_at_a_brand_or_product</th>\n",
       "    </tr>\n",
       "  </thead>\n",
       "  <tbody>\n",
       "    <tr>\n",
       "      <th>9088</th>\n",
       "      <td>Ipad everywhere. #SXSW {link}</td>\n",
       "      <td>iPad</td>\n",
       "      <td>Positive emotion</td>\n",
       "    </tr>\n",
       "    <tr>\n",
       "      <th>9089</th>\n",
       "      <td>Wave, buzz... RT @mention We interrupt your re...</td>\n",
       "      <td>NaN</td>\n",
       "      <td>No emotion toward brand or product</td>\n",
       "    </tr>\n",
       "    <tr>\n",
       "      <th>9090</th>\n",
       "      <td>Google's Zeiger, a physician never reported po...</td>\n",
       "      <td>NaN</td>\n",
       "      <td>No emotion toward brand or product</td>\n",
       "    </tr>\n",
       "    <tr>\n",
       "      <th>9091</th>\n",
       "      <td>Some Verizon iPhone customers complained their...</td>\n",
       "      <td>NaN</td>\n",
       "      <td>No emotion toward brand or product</td>\n",
       "    </tr>\n",
       "    <tr>\n",
       "      <th>9092</th>\n",
       "      <td>Ï¡Ïàü_ÊÎÒ£Áââ_£â_ÛâRT @...</td>\n",
       "      <td>NaN</td>\n",
       "      <td>No emotion toward brand or product</td>\n",
       "    </tr>\n",
       "  </tbody>\n",
       "</table>\n",
       "</div>"
      ],
      "text/plain": [
       "                                             tweet_text  \\\n",
       "9088                      Ipad everywhere. #SXSW {link}   \n",
       "9089  Wave, buzz... RT @mention We interrupt your re...   \n",
       "9090  Google's Zeiger, a physician never reported po...   \n",
       "9091  Some Verizon iPhone customers complained their...   \n",
       "9092  Ï¡Ïàü_ÊÎÒ£Áââ_£â_ÛâRT @...   \n",
       "\n",
       "     emotion_in_tweet_is_directed_at  \\\n",
       "9088                            iPad   \n",
       "9089                             NaN   \n",
       "9090                             NaN   \n",
       "9091                             NaN   \n",
       "9092                             NaN   \n",
       "\n",
       "     is_there_an_emotion_directed_at_a_brand_or_product  \n",
       "9088                                   Positive emotion  \n",
       "9089                 No emotion toward brand or product  \n",
       "9090                 No emotion toward brand or product  \n",
       "9091                 No emotion toward brand or product  \n",
       "9092                 No emotion toward brand or product  "
      ]
     },
     "execution_count": 44,
     "metadata": {},
     "output_type": "execute_result"
    }
   ],
   "source": [
    "df.tail()"
   ]
  },
  {
   "cell_type": "code",
   "execution_count": 45,
   "metadata": {},
   "outputs": [
    {
     "data": {
      "text/html": [
       "<div>\n",
       "<style scoped>\n",
       "    .dataframe tbody tr th:only-of-type {\n",
       "        vertical-align: middle;\n",
       "    }\n",
       "\n",
       "    .dataframe tbody tr th {\n",
       "        vertical-align: top;\n",
       "    }\n",
       "\n",
       "    .dataframe thead th {\n",
       "        text-align: right;\n",
       "    }\n",
       "</style>\n",
       "<table border=\"1\" class=\"dataframe\">\n",
       "  <thead>\n",
       "    <tr style=\"text-align: right;\">\n",
       "      <th></th>\n",
       "      <th>tweet_text</th>\n",
       "      <th>emotion_in_tweet_is_directed_at</th>\n",
       "      <th>is_there_an_emotion_directed_at_a_brand_or_product</th>\n",
       "    </tr>\n",
       "  </thead>\n",
       "  <tbody>\n",
       "    <tr>\n",
       "      <th>8359</th>\n",
       "      <td>Last minute flight change to #sxsw means I can...</td>\n",
       "      <td>iPad</td>\n",
       "      <td>Positive emotion</td>\n",
       "    </tr>\n",
       "    <tr>\n",
       "      <th>2601</th>\n",
       "      <td>sure to be a total scene! RT @mention Just spo...</td>\n",
       "      <td>Apple</td>\n",
       "      <td>Positive emotion</td>\n",
       "    </tr>\n",
       "    <tr>\n",
       "      <th>2357</th>\n",
       "      <td>#saveustechies panel at #sxsw getting off to a...</td>\n",
       "      <td>Google</td>\n",
       "      <td>Positive emotion</td>\n",
       "    </tr>\n",
       "    <tr>\n",
       "      <th>3332</th>\n",
       "      <td>@mention Google Circles will be widely publici...</td>\n",
       "      <td>NaN</td>\n",
       "      <td>No emotion toward brand or product</td>\n",
       "    </tr>\n",
       "    <tr>\n",
       "      <th>6505</th>\n",
       "      <td>RT @mention RT @mention Apple alignd 2 big tec...</td>\n",
       "      <td>NaN</td>\n",
       "      <td>No emotion toward brand or product</td>\n",
       "    </tr>\n",
       "  </tbody>\n",
       "</table>\n",
       "</div>"
      ],
      "text/plain": [
       "                                             tweet_text  \\\n",
       "8359  Last minute flight change to #sxsw means I can...   \n",
       "2601  sure to be a total scene! RT @mention Just spo...   \n",
       "2357  #saveustechies panel at #sxsw getting off to a...   \n",
       "3332  @mention Google Circles will be widely publici...   \n",
       "6505  RT @mention RT @mention Apple alignd 2 big tec...   \n",
       "\n",
       "     emotion_in_tweet_is_directed_at  \\\n",
       "8359                            iPad   \n",
       "2601                           Apple   \n",
       "2357                          Google   \n",
       "3332                             NaN   \n",
       "6505                             NaN   \n",
       "\n",
       "     is_there_an_emotion_directed_at_a_brand_or_product  \n",
       "8359                                   Positive emotion  \n",
       "2601                                   Positive emotion  \n",
       "2357                                   Positive emotion  \n",
       "3332                 No emotion toward brand or product  \n",
       "6505                 No emotion toward brand or product  "
      ]
     },
     "execution_count": 45,
     "metadata": {},
     "output_type": "execute_result"
    }
   ],
   "source": [
    "df.sample(5)"
   ]
  },
  {
   "cell_type": "markdown",
   "metadata": {
    "id": "_jMZC6O8Z7Ph"
   },
   "source": [
    "#  Data cleaning"
   ]
  },
  {
   "cell_type": "markdown",
   "metadata": {
    "id": "MjpHOLDuaM8b"
   },
   "source": [
    "## Correct formats"
   ]
  },
  {
   "cell_type": "code",
   "execution_count": 46,
   "metadata": {},
   "outputs": [
    {
     "name": "stdout",
     "output_type": "stream",
     "text": [
      "<class 'pandas.core.frame.DataFrame'>\n",
      "RangeIndex: 9093 entries, 0 to 9092\n",
      "Data columns (total 3 columns):\n",
      " #   Column                                              Non-Null Count  Dtype \n",
      "---  ------                                              --------------  ----- \n",
      " 0   tweet_text                                          9092 non-null   object\n",
      " 1   emotion_in_tweet_is_directed_at                     3291 non-null   object\n",
      " 2   is_there_an_emotion_directed_at_a_brand_or_product  9093 non-null   object\n",
      "dtypes: object(3)\n",
      "memory usage: 213.2+ KB\n"
     ]
    }
   ],
   "source": [
    "df.info()"
   ]
  },
  {
   "cell_type": "markdown",
   "metadata": {},
   "source": [
    "- **tweet_text**: The data type `object` is appropriate as it contains text data.\n",
    "- **emotion_in_tweet_is_directed_at**: The `object` type is suitable since it likely contains categorical or string values indicating emotion direction.\n",
    "- **is_there_an_emotion_directed_at_a_brand_or_product**: The `object` type is correct as it likely holds categorical values (e.g., \"Yes\" or \"No\").\n",
    "\n",
    "\n",
    "All columns have the correct data type (`object`) for their respective content."
   ]
  },
  {
   "cell_type": "markdown",
   "metadata": {
    "id": "iGwoM5kxaRC7"
   },
   "source": [
    "## Missing Values"
   ]
  },
  {
   "cell_type": "code",
   "execution_count": 47,
   "metadata": {},
   "outputs": [
    {
     "data": {
      "text/plain": [
       "tweet_text                                               1\n",
       "emotion_in_tweet_is_directed_at                       5802\n",
       "is_there_an_emotion_directed_at_a_brand_or_product       0\n",
       "dtype: int64"
      ]
     },
     "execution_count": 47,
     "metadata": {},
     "output_type": "execute_result"
    }
   ],
   "source": [
    "df.isna().sum()"
   ]
  },
  {
   "cell_type": "markdown",
   "metadata": {},
   "source": [
    "- The dataset has a total of 9093 rows.\n",
    "- The **tweet_text** is the primary feature and is almost complete.\n",
    "- The other two features have missing values and might require further preprocessing before use in sentiment analysis or classification tasks.\n",
    "\n"
   ]
  },
  {
   "cell_type": "markdown",
   "metadata": {},
   "source": [
    "Removing rows with the missing value in **tweet_text** "
   ]
  },
  {
   "cell_type": "code",
   "execution_count": 48,
   "metadata": {},
   "outputs": [
    {
     "data": {
      "text/plain": [
       "tweet_text                                               0\n",
       "emotion_in_tweet_is_directed_at                       5801\n",
       "is_there_an_emotion_directed_at_a_brand_or_product       0\n",
       "dtype: int64"
      ]
     },
     "execution_count": 48,
     "metadata": {},
     "output_type": "execute_result"
    }
   ],
   "source": [
    "df.dropna(subset=[\"tweet_text\"],inplace=True)\n",
    "df.isna().sum()"
   ]
  },
  {
   "cell_type": "markdown",
   "metadata": {},
   "source": [
    "Replacing missing values on column **emotion_in_tweet_is_directed_at** with `'Unknown'`"
   ]
  },
  {
   "cell_type": "code",
   "execution_count": 49,
   "metadata": {},
   "outputs": [
    {
     "data": {
      "text/plain": [
       "tweet_text                                            0\n",
       "emotion_in_tweet_is_directed_at                       0\n",
       "is_there_an_emotion_directed_at_a_brand_or_product    0\n",
       "dtype: int64"
      ]
     },
     "execution_count": 49,
     "metadata": {},
     "output_type": "execute_result"
    }
   ],
   "source": [
    "product_names = df.emotion_in_tweet_is_directed_at.unique()\n",
    "df.emotion_in_tweet_is_directed_at.fillna(\"Unknown\",inplace=True)\n",
    "df.isna().sum() "
   ]
  },
  {
   "cell_type": "markdown",
   "metadata": {},
   "source": [
    "Keeping the original text"
   ]
  },
  {
   "cell_type": "code",
   "execution_count": 50,
   "metadata": {},
   "outputs": [],
   "source": [
    "df[\"original_tweet\"]= df.tweet_text"
   ]
  },
  {
   "cell_type": "markdown",
   "metadata": {},
   "source": [
    "## Feature Engineering"
   ]
  },
  {
   "cell_type": "markdown",
   "metadata": {},
   "source": [
    "### Lowercasing\n",
    "Convert all `tweet_text` to lowercase to maintain consistency"
   ]
  },
  {
   "cell_type": "code",
   "execution_count": 51,
   "metadata": {},
   "outputs": [],
   "source": [
    "df.tweet_text = df.tweet_text.str.lower()"
   ]
  },
  {
   "cell_type": "markdown",
   "metadata": {},
   "source": [
    "**Converting Transcript to strings**"
   ]
  },
  {
   "cell_type": "code",
   "execution_count": 52,
   "metadata": {},
   "outputs": [],
   "source": [
    "def transcription_to_strings(df): \n",
    "    # matches basic sad face :(, :-(\n",
    "    sad_face = re.compile(r'[:;8]?[\\'\\-]?\\([/\\\\]')  \n",
    "    \n",
    "    # matches crying face :'(, :'-(\n",
    "    crying_face = re.compile(r'[:;8]?[\\'\\-]?\\'\\(')  \n",
    "    \n",
    "    # matches complex sad faces with slashes, tears, etc.\n",
    "    complex_sad_face = re.compile(r'[:;8]?[\\'\\-]?\\([/\\\\]\\)?')  \n",
    "    \n",
    "    # edge case: faces with tears or creative symbols like T_T, TT_TT\n",
    "    crying_edge_case = re.compile(r'(T_T|tt_t|TT_TT)')\n",
    "    \n",
    "    # apply pattern replacement across the DataFrame's text column\n",
    "    df['tweet_text'] = df['tweet_text'].apply(lambda x: \n",
    "        crying_edge_case.sub('crying face', \n",
    "        complex_sad_face.sub('complex sad face', \n",
    "        crying_face.sub('crying face', \n",
    "        sad_face.sub('sad face', x)))))\n",
    "\n",
    "transcription_to_strings(df)\n",
    "    "
   ]
  },
  {
   "cell_type": "markdown",
   "metadata": {},
   "source": [
    "**Dealing with emojis**"
   ]
  },
  {
   "cell_type": "code",
   "execution_count": 53,
   "metadata": {},
   "outputs": [],
   "source": [
    "for index in range(df.tweet_text.shape[0]):\n",
    "    df.tweet_text.iloc[index] = emoji.demojize(df.tweet_text.iloc[index])"
   ]
  },
  {
   "cell_type": "markdown",
   "metadata": {},
   "source": [
    "**Replacing abbreviation with its full form**"
   ]
  },
  {
   "cell_type": "code",
   "execution_count": 54,
   "metadata": {},
   "outputs": [],
   "source": [
    "# loading abbreviation dictionary from abbr.txt\n",
    "with open('abbr.txt', 'r') as file:\n",
    "    abbr_dict = json.load(file)\n",
    "\n",
    "# expand abbreviations in a tweet\n",
    "def expand_abbr_in_tweet(text):\n",
    "    return \" \".join([abbr_dict.get(word, word) for word in text.split()])\n",
    "\n",
    "# apply the function to each tweet in the DataFrame\n",
    "df['tweet_text'] = df['tweet_text'].apply(expand_abbr_in_tweet)"
   ]
  },
  {
   "cell_type": "markdown",
   "metadata": {},
   "source": [
    "### Removing Links\n",
    "First check if there is any links"
   ]
  },
  {
   "cell_type": "code",
   "execution_count": 55,
   "metadata": {},
   "outputs": [],
   "source": [
    "def text_processor(process, pattern):   \n",
    "    def extract_pattern(text):\n",
    "        return re.findall(pattern, text)\n",
    "\n",
    "    # apply pattern extraction\n",
    "    links_list = df['tweet_text'].apply(extract_pattern)\n",
    "    \n",
    "    # flatten the list of lists\n",
    "    all_links = [link for sublist in links_list for link in sublist]\n",
    "\n",
    "    # check if anything was found\n",
    "    if all_links:\n",
    "        print(f\"{process} found in the dataset: {len(all_links)} matches\")\n",
    "        print(all_links[:5])  # optional: show a few samples\n",
    "    else:\n",
    "        print(f\"No {process} found.\")"
   ]
  },
  {
   "cell_type": "code",
   "execution_count": 56,
   "metadata": {},
   "outputs": [],
   "source": [
    "def remove_pattern(pattern):\n",
    "    df['tweet_text'] = df['tweet_text'].apply(lambda x: re.sub(pattern, '', x))"
   ]
  },
  {
   "cell_type": "code",
   "execution_count": 57,
   "metadata": {},
   "outputs": [
    {
     "name": "stdout",
     "output_type": "stream",
     "text": [
      "Links found in the dataset: 48 matches\n",
      "['http://ht.ly/49n4m', 'http://bit.ly/ieavob', 'http://bit.ly/gvlrin', 'http://j.mp/grn7pk)', 'http://bit.ly/axzwxb']\n"
     ]
    }
   ],
   "source": [
    "to_remove_or_check = \"Links\"\n",
    "pattern = r'http\\S+|www\\S+'\n",
    "text_processor(to_remove_or_check,pattern)"
   ]
  },
  {
   "cell_type": "markdown",
   "metadata": {},
   "source": [
    "Removing links found"
   ]
  },
  {
   "cell_type": "code",
   "execution_count": 58,
   "metadata": {},
   "outputs": [],
   "source": [
    "remove_pattern(pattern)"
   ]
  },
  {
   "cell_type": "markdown",
   "metadata": {},
   "source": [
    "Checking if any links are remaining"
   ]
  },
  {
   "cell_type": "code",
   "execution_count": 59,
   "metadata": {},
   "outputs": [
    {
     "name": "stdout",
     "output_type": "stream",
     "text": [
      "No Links found.\n"
     ]
    }
   ],
   "source": [
    "text_processor(to_remove_or_check,pattern)"
   ]
  },
  {
   "cell_type": "markdown",
   "metadata": {},
   "source": [
    "**Removing Usernames**\n",
    "\n",
    "Checking for twitter usernames"
   ]
  },
  {
   "cell_type": "code",
   "execution_count": 60,
   "metadata": {},
   "outputs": [
    {
     "name": "stdout",
     "output_type": "stream",
     "text": [
      "Usernames found in the dataset: 7192 matches\n",
      "['@wesley83', '@jessedee', '@fludapp', '@swonderlin', '@sxsw']\n"
     ]
    }
   ],
   "source": [
    "to_remove_or_check = \"Usernames\"\n",
    "pattern = r'@\\S+'\n",
    "text_processor(to_remove_or_check,pattern)"
   ]
  },
  {
   "cell_type": "markdown",
   "metadata": {},
   "source": [
    "Removing Usernames"
   ]
  },
  {
   "cell_type": "code",
   "execution_count": 61,
   "metadata": {},
   "outputs": [],
   "source": [
    "remove_pattern(pattern)"
   ]
  },
  {
   "cell_type": "markdown",
   "metadata": {},
   "source": [
    "Checking if any usernames are remaining\n"
   ]
  },
  {
   "cell_type": "code",
   "execution_count": 62,
   "metadata": {},
   "outputs": [
    {
     "name": "stdout",
     "output_type": "stream",
     "text": [
      "No Usernames found.\n"
     ]
    }
   ],
   "source": [
    "text_processor(to_remove_or_check,pattern)"
   ]
  },
  {
   "cell_type": "markdown",
   "metadata": {},
   "source": [
    "**Removing Hashtags**\n",
    "\n",
    "Let us first check if there is any hashtags"
   ]
  },
  {
   "cell_type": "code",
   "execution_count": 63,
   "metadata": {},
   "outputs": [
    {
     "name": "stdout",
     "output_type": "stream",
     "text": [
      "Hashtags found in the dataset: 15854 matches\n",
      "['#rise_austin,', '#sxsw.', '#sxsw', '#ipad', '#sxsw.']\n"
     ]
    }
   ],
   "source": [
    "to_remove_or_check = \"Hashtags\"\n",
    "pattern = r'#\\S+'\n",
    "text_processor(to_remove_or_check,pattern)"
   ]
  },
  {
   "cell_type": "markdown",
   "metadata": {},
   "source": [
    "Removing hashtags"
   ]
  },
  {
   "cell_type": "code",
   "execution_count": 64,
   "metadata": {},
   "outputs": [],
   "source": [
    "remove_pattern(pattern)"
   ]
  },
  {
   "cell_type": "code",
   "execution_count": 65,
   "metadata": {},
   "outputs": [
    {
     "name": "stdout",
     "output_type": "stream",
     "text": [
      "No Hashtags found.\n"
     ]
    }
   ],
   "source": [
    "text_processor(to_remove_or_check,pattern)"
   ]
  },
  {
   "cell_type": "markdown",
   "metadata": {},
   "source": [
    "**Removing Stopwords**"
   ]
  },
  {
   "cell_type": "code",
   "execution_count": 66,
   "metadata": {},
   "outputs": [],
   "source": [
    "stopwords_list = stopwords.words('english')  # Getting stopwords from NLTK\n",
    "\n",
    "# converting all product names to lowercase\n",
    "product_names= [str(name).lower() for name in product_names if not pd.isna(name)]\n",
    "# extending the list with lowercase product names\n",
    "stopwords_list.extend(product_names)\n",
    "\n",
    "for index in range(df.tweet_text.shape[0]):\n",
    "    tweet_text = df.tweet_text.iloc[index].split()\n",
    "    tweet_no_stopword = \" \".join([word for word in tweet_text if word not in stopwords_list])\n",
    "    df.tweet_text.iloc[index] = tweet_no_stopword"
   ]
  },
  {
   "cell_type": "code",
   "execution_count": 67,
   "metadata": {
    "scrolled": false
   },
   "outputs": [
    {
     "data": {
      "text/html": [
       "<div>\n",
       "<style scoped>\n",
       "    .dataframe tbody tr th:only-of-type {\n",
       "        vertical-align: middle;\n",
       "    }\n",
       "\n",
       "    .dataframe tbody tr th {\n",
       "        vertical-align: top;\n",
       "    }\n",
       "\n",
       "    .dataframe thead th {\n",
       "        text-align: right;\n",
       "    }\n",
       "</style>\n",
       "<table border=\"1\" class=\"dataframe\">\n",
       "  <thead>\n",
       "    <tr style=\"text-align: right;\">\n",
       "      <th></th>\n",
       "      <th>tweet_text</th>\n",
       "      <th>emotion_in_tweet_is_directed_at</th>\n",
       "      <th>is_there_an_emotion_directed_at_a_brand_or_product</th>\n",
       "      <th>original_tweet</th>\n",
       "    </tr>\n",
       "  </thead>\n",
       "  <tbody>\n",
       "    <tr>\n",
       "      <th>0</th>\n",
       "      <td>. 3g iphone. 3 hrs tweeting dead! need upgrade...</td>\n",
       "      <td>iPhone</td>\n",
       "      <td>Negative emotion</td>\n",
       "      <td>.@wesley83 I have a 3G iPhone. After 3 hrs twe...</td>\n",
       "    </tr>\n",
       "    <tr>\n",
       "      <th>1</th>\n",
       "      <td>know ? awesome ipad/iphone application likely ...</td>\n",
       "      <td>iPad or iPhone App</td>\n",
       "      <td>Positive emotion</td>\n",
       "      <td>@jessedee Know about @fludapp ? Awesome iPad/i...</td>\n",
       "    </tr>\n",
       "    <tr>\n",
       "      <th>2</th>\n",
       "      <td>wait 2 also. sale</td>\n",
       "      <td>iPad</td>\n",
       "      <td>Positive emotion</td>\n",
       "      <td>@swonderlin Can not wait for #iPad 2 also. The...</td>\n",
       "    </tr>\n",
       "    <tr>\n",
       "      <th>3</th>\n",
       "      <td>hope year's festival crashy year's app.</td>\n",
       "      <td>iPad or iPhone App</td>\n",
       "      <td>Negative emotion</td>\n",
       "      <td>@sxsw I hope this year's festival isn't as cra...</td>\n",
       "    </tr>\n",
       "    <tr>\n",
       "      <th>4</th>\n",
       "      <td>great stuff fri marissa mayer (google), tim o'...</td>\n",
       "      <td>Google</td>\n",
       "      <td>Positive emotion</td>\n",
       "      <td>@sxtxstate great stuff on Fri #SXSW: Marissa M...</td>\n",
       "    </tr>\n",
       "  </tbody>\n",
       "</table>\n",
       "</div>"
      ],
      "text/plain": [
       "                                          tweet_text  \\\n",
       "0  . 3g iphone. 3 hrs tweeting dead! need upgrade...   \n",
       "1  know ? awesome ipad/iphone application likely ...   \n",
       "2                                  wait 2 also. sale   \n",
       "3            hope year's festival crashy year's app.   \n",
       "4  great stuff fri marissa mayer (google), tim o'...   \n",
       "\n",
       "  emotion_in_tweet_is_directed_at  \\\n",
       "0                          iPhone   \n",
       "1              iPad or iPhone App   \n",
       "2                            iPad   \n",
       "3              iPad or iPhone App   \n",
       "4                          Google   \n",
       "\n",
       "  is_there_an_emotion_directed_at_a_brand_or_product  \\\n",
       "0                                   Negative emotion   \n",
       "1                                   Positive emotion   \n",
       "2                                   Positive emotion   \n",
       "3                                   Negative emotion   \n",
       "4                                   Positive emotion   \n",
       "\n",
       "                                      original_tweet  \n",
       "0  .@wesley83 I have a 3G iPhone. After 3 hrs twe...  \n",
       "1  @jessedee Know about @fludapp ? Awesome iPad/i...  \n",
       "2  @swonderlin Can not wait for #iPad 2 also. The...  \n",
       "3  @sxsw I hope this year's festival isn't as cra...  \n",
       "4  @sxtxstate great stuff on Fri #SXSW: Marissa M...  "
      ]
     },
     "execution_count": 67,
     "metadata": {},
     "output_type": "execute_result"
    }
   ],
   "source": [
    "df.head()"
   ]
  },
  {
   "cell_type": "markdown",
   "metadata": {},
   "source": [
    "**Removing Punctuation**"
   ]
  },
  {
   "cell_type": "code",
   "execution_count": 68,
   "metadata": {},
   "outputs": [],
   "source": [
    "# function to remove punctuation\n",
    "def remove_punctuation(text):\n",
    "    return text.translate(str.maketrans('', '', string.punctuation))\n",
    "\n",
    "# applying the function to the tweet_text column\n",
    "df['tweet_text'] = df['tweet_text'].apply(remove_punctuation)"
   ]
  },
  {
   "cell_type": "markdown",
   "metadata": {},
   "source": [
    "**Removing Numbers**"
   ]
  },
  {
   "cell_type": "markdown",
   "metadata": {},
   "source": [
    "Checking if there is any numbers if so remove"
   ]
  },
  {
   "cell_type": "code",
   "execution_count": 69,
   "metadata": {},
   "outputs": [
    {
     "name": "stdout",
     "output_type": "stream",
     "text": [
      "Numbers found in the dataset: 2421 matches\n",
      "['3', '2', '21', '30', '3']\n"
     ]
    }
   ],
   "source": [
    "to_remove_or_check = \"Numbers\"\n",
    "pattern = r'\\b\\d+\\b'\n",
    "text_processor(to_remove_or_check,pattern)"
   ]
  },
  {
   "cell_type": "code",
   "execution_count": 70,
   "metadata": {},
   "outputs": [],
   "source": [
    "remove_pattern(pattern)"
   ]
  },
  {
   "cell_type": "code",
   "execution_count": 71,
   "metadata": {},
   "outputs": [
    {
     "name": "stdout",
     "output_type": "stream",
     "text": [
      "No Numbers found.\n"
     ]
    }
   ],
   "source": [
    "text_processor(to_remove_or_check,pattern)"
   ]
  },
  {
   "cell_type": "markdown",
   "metadata": {},
   "source": [
    "### Tokenization"
   ]
  },
  {
   "cell_type": "code",
   "execution_count": 32,
   "metadata": {},
   "outputs": [],
   "source": [
    "for index in range(df.tweet_text.shape[0]):\n",
    "    df.tweet_text.iloc[index] = word_tokenize(df.tweet_text.iloc[index])"
   ]
  },
  {
   "cell_type": "code",
   "execution_count": 33,
   "metadata": {},
   "outputs": [
    {
     "data": {
      "text/html": [
       "<div>\n",
       "<style scoped>\n",
       "    .dataframe tbody tr th:only-of-type {\n",
       "        vertical-align: middle;\n",
       "    }\n",
       "\n",
       "    .dataframe tbody tr th {\n",
       "        vertical-align: top;\n",
       "    }\n",
       "\n",
       "    .dataframe thead th {\n",
       "        text-align: right;\n",
       "    }\n",
       "</style>\n",
       "<table border=\"1\" class=\"dataframe\">\n",
       "  <thead>\n",
       "    <tr style=\"text-align: right;\">\n",
       "      <th></th>\n",
       "      <th>tweet_text</th>\n",
       "      <th>emotion_in_tweet_is_directed_at</th>\n",
       "      <th>is_there_an_emotion_directed_at_a_brand_or_product</th>\n",
       "      <th>original_tweet</th>\n",
       "    </tr>\n",
       "  </thead>\n",
       "  <tbody>\n",
       "    <tr>\n",
       "      <th>0</th>\n",
       "      <td>[3g, iphone, hrs, tweeting, dead, need, upgrad...</td>\n",
       "      <td>iPhone</td>\n",
       "      <td>Negative emotion</td>\n",
       "      <td>.@wesley83 I have a 3G iPhone. After 3 hrs twe...</td>\n",
       "    </tr>\n",
       "    <tr>\n",
       "      <th>1</th>\n",
       "      <td>[know, awesome, ipadiphone, application, likel...</td>\n",
       "      <td>iPad or iPhone App</td>\n",
       "      <td>Positive emotion</td>\n",
       "      <td>@jessedee Know about @fludapp ? Awesome iPad/i...</td>\n",
       "    </tr>\n",
       "    <tr>\n",
       "      <th>2</th>\n",
       "      <td>[wait, also, sale]</td>\n",
       "      <td>iPad</td>\n",
       "      <td>Positive emotion</td>\n",
       "      <td>@swonderlin Can not wait for #iPad 2 also. The...</td>\n",
       "    </tr>\n",
       "    <tr>\n",
       "      <th>3</th>\n",
       "      <td>[hope, years, festival, crashy, years, app]</td>\n",
       "      <td>iPad or iPhone App</td>\n",
       "      <td>Negative emotion</td>\n",
       "      <td>@sxsw I hope this year's festival isn't as cra...</td>\n",
       "    </tr>\n",
       "    <tr>\n",
       "      <th>4</th>\n",
       "      <td>[great, stuff, fri, marissa, mayer, google, ti...</td>\n",
       "      <td>Google</td>\n",
       "      <td>Positive emotion</td>\n",
       "      <td>@sxtxstate great stuff on Fri #SXSW: Marissa M...</td>\n",
       "    </tr>\n",
       "  </tbody>\n",
       "</table>\n",
       "</div>"
      ],
      "text/plain": [
       "                                          tweet_text  \\\n",
       "0  [3g, iphone, hrs, tweeting, dead, need, upgrad...   \n",
       "1  [know, awesome, ipadiphone, application, likel...   \n",
       "2                                 [wait, also, sale]   \n",
       "3        [hope, years, festival, crashy, years, app]   \n",
       "4  [great, stuff, fri, marissa, mayer, google, ti...   \n",
       "\n",
       "  emotion_in_tweet_is_directed_at  \\\n",
       "0                          iPhone   \n",
       "1              iPad or iPhone App   \n",
       "2                            iPad   \n",
       "3              iPad or iPhone App   \n",
       "4                          Google   \n",
       "\n",
       "  is_there_an_emotion_directed_at_a_brand_or_product  \\\n",
       "0                                   Negative emotion   \n",
       "1                                   Positive emotion   \n",
       "2                                   Positive emotion   \n",
       "3                                   Negative emotion   \n",
       "4                                   Positive emotion   \n",
       "\n",
       "                                      original_tweet  \n",
       "0  .@wesley83 I have a 3G iPhone. After 3 hrs twe...  \n",
       "1  @jessedee Know about @fludapp ? Awesome iPad/i...  \n",
       "2  @swonderlin Can not wait for #iPad 2 also. The...  \n",
       "3  @sxsw I hope this year's festival isn't as cra...  \n",
       "4  @sxtxstate great stuff on Fri #SXSW: Marissa M...  "
      ]
     },
     "execution_count": 33,
     "metadata": {},
     "output_type": "execute_result"
    }
   ],
   "source": [
    "df.head()"
   ]
  },
  {
   "cell_type": "markdown",
   "metadata": {},
   "source": [
    "### Lemmatization"
   ]
  },
  {
   "cell_type": "code",
   "execution_count": 34,
   "metadata": {},
   "outputs": [],
   "source": [
    "lemmatizer = WordNetLemmatizer()\n",
    "\n",
    "for index in range(df.tweet_text.shape[0]):\n",
    "    text = df.tweet_text.iloc[index] \n",
    "    tweet_text =[lemmatizer.lemmatize(word) for word in text]\n",
    "    df.tweet_text.iloc[index] = tweet_text"
   ]
  },
  {
   "cell_type": "code",
   "execution_count": 35,
   "metadata": {},
   "outputs": [
    {
     "data": {
      "text/html": [
       "<div>\n",
       "<style scoped>\n",
       "    .dataframe tbody tr th:only-of-type {\n",
       "        vertical-align: middle;\n",
       "    }\n",
       "\n",
       "    .dataframe tbody tr th {\n",
       "        vertical-align: top;\n",
       "    }\n",
       "\n",
       "    .dataframe thead th {\n",
       "        text-align: right;\n",
       "    }\n",
       "</style>\n",
       "<table border=\"1\" class=\"dataframe\">\n",
       "  <thead>\n",
       "    <tr style=\"text-align: right;\">\n",
       "      <th></th>\n",
       "      <th>tweet_text</th>\n",
       "      <th>emotion_in_tweet_is_directed_at</th>\n",
       "      <th>is_there_an_emotion_directed_at_a_brand_or_product</th>\n",
       "      <th>original_tweet</th>\n",
       "    </tr>\n",
       "  </thead>\n",
       "  <tbody>\n",
       "    <tr>\n",
       "      <th>0</th>\n",
       "      <td>[3g, iphone, hr, tweeting, dead, need, upgrade...</td>\n",
       "      <td>iPhone</td>\n",
       "      <td>Negative emotion</td>\n",
       "      <td>.@wesley83 I have a 3G iPhone. After 3 hrs twe...</td>\n",
       "    </tr>\n",
       "    <tr>\n",
       "      <th>1</th>\n",
       "      <td>[know, awesome, ipadiphone, application, likel...</td>\n",
       "      <td>iPad or iPhone App</td>\n",
       "      <td>Positive emotion</td>\n",
       "      <td>@jessedee Know about @fludapp ? Awesome iPad/i...</td>\n",
       "    </tr>\n",
       "    <tr>\n",
       "      <th>2</th>\n",
       "      <td>[wait, also, sale]</td>\n",
       "      <td>iPad</td>\n",
       "      <td>Positive emotion</td>\n",
       "      <td>@swonderlin Can not wait for #iPad 2 also. The...</td>\n",
       "    </tr>\n",
       "    <tr>\n",
       "      <th>3</th>\n",
       "      <td>[hope, year, festival, crashy, year, app]</td>\n",
       "      <td>iPad or iPhone App</td>\n",
       "      <td>Negative emotion</td>\n",
       "      <td>@sxsw I hope this year's festival isn't as cra...</td>\n",
       "    </tr>\n",
       "    <tr>\n",
       "      <th>4</th>\n",
       "      <td>[great, stuff, fri, marissa, mayer, google, ti...</td>\n",
       "      <td>Google</td>\n",
       "      <td>Positive emotion</td>\n",
       "      <td>@sxtxstate great stuff on Fri #SXSW: Marissa M...</td>\n",
       "    </tr>\n",
       "  </tbody>\n",
       "</table>\n",
       "</div>"
      ],
      "text/plain": [
       "                                          tweet_text  \\\n",
       "0  [3g, iphone, hr, tweeting, dead, need, upgrade...   \n",
       "1  [know, awesome, ipadiphone, application, likel...   \n",
       "2                                 [wait, also, sale]   \n",
       "3          [hope, year, festival, crashy, year, app]   \n",
       "4  [great, stuff, fri, marissa, mayer, google, ti...   \n",
       "\n",
       "  emotion_in_tweet_is_directed_at  \\\n",
       "0                          iPhone   \n",
       "1              iPad or iPhone App   \n",
       "2                            iPad   \n",
       "3              iPad or iPhone App   \n",
       "4                          Google   \n",
       "\n",
       "  is_there_an_emotion_directed_at_a_brand_or_product  \\\n",
       "0                                   Negative emotion   \n",
       "1                                   Positive emotion   \n",
       "2                                   Positive emotion   \n",
       "3                                   Negative emotion   \n",
       "4                                   Positive emotion   \n",
       "\n",
       "                                      original_tweet  \n",
       "0  .@wesley83 I have a 3G iPhone. After 3 hrs twe...  \n",
       "1  @jessedee Know about @fludapp ? Awesome iPad/i...  \n",
       "2  @swonderlin Can not wait for #iPad 2 also. The...  \n",
       "3  @sxsw I hope this year's festival isn't as cra...  \n",
       "4  @sxtxstate great stuff on Fri #SXSW: Marissa M...  "
      ]
     },
     "execution_count": 35,
     "metadata": {},
     "output_type": "execute_result"
    }
   ],
   "source": [
    "df.head()"
   ]
  },
  {
   "cell_type": "markdown",
   "metadata": {
    "id": "XVKxmVvOaUgA"
   },
   "source": [
    "#  Analysis"
   ]
  },
  {
   "cell_type": "markdown",
   "metadata": {},
   "source": [
    "## Univariate analysis"
   ]
  },
  {
   "cell_type": "code",
   "execution_count": 73,
   "metadata": {},
   "outputs": [
    {
     "name": "stdout",
     "output_type": "stream",
     "text": [
      "[(' ', 76093), ('e', 55756), ('t', 36806), ('i', 33430), ('o', 32936), ('a', 32750), ('n', 32736), ('s', 30090), ('r', 27036), ('l', 24687), ('p', 17440), ('c', 16183), ('d', 14062), ('g', 13385), ('u', 13295), ('w', 11493), ('m', 10877), ('h', 10533), ('k', 10216), ('y', 8033), ('b', 5909), ('f', 4889), ('v', 4522), ('q', 2122), ('x', 1678), ('j', 921), ('z', 613), ('\\x89', 582), ('2', 479), ('û', 473), ('0', 314), ('1', 300), ('3', 228), ('ï', 216), ('5', 209), ('6', 195), ('4', 165), ('9', 131), ('8', 99), ('ª', 94), ('÷', 88), ('7', 65), ('\\x9d', 49), ('¼', 40), ('\\x8b', 37), ('ã', 34), ('å', 34), ('ó', 29), ('ò', 26), ('ì', 23), ('\\x81', 23), ('ê', 20), ('â', 12), ('á', 11), ('ç', 11), ('è', 7), ('\\x8d', 7), ('¢', 6), ('ä', 6), ('ü', 5), ('\\x8f', 5), ('¡', 4), ('î', 4), ('ë', 4), ('£', 3), ('¾', 3), ('ð', 3), ('\\x8a', 3), ('\\x84', 2), ('«', 2), ('»', 2), ('ù', 2), ('ô', 2), ('¤', 2), ('ö', 2), ('\\x8c', 2), ('ý', 2), ('à', 2), ('µ', 1), ('\\x95', 1), ('¬', 1), ('´', 1), ('\\x80', 1), ('±', 1), ('\\x8e', 1)]\n"
     ]
    }
   ],
   "source": [
    "tokens = []\n",
    "for index in range(df.tweet_text.shape[0]):\n",
    "    text=df.tweet_text.iloc[index]\n",
    "    for word in text:tokens.append(word)\n",
    "# creating frequency distribution from the tokens\n",
    "freqdist = FreqDist(tokens)\n",
    "\n",
    "# getting 200 most common words  \n",
    "most_common = freqdist.most_common(200)\n",
    "\n",
    "print(most_common)"
   ]
  },
  {
   "cell_type": "code",
   "execution_count": 74,
   "metadata": {},
   "outputs": [
    {
     "data": {
      "image/png": "[encoded data removed]",
      "text/plain": [
       "<Figure size 720x432 with 1 Axes>"
      ]
     },
     "metadata": {
      "needs_background": "light"
     },
     "output_type": "display_data"
    }
   ],
   "source": [
    "#  top 20 most common words for visualization\n",
    "top_20 = freqdist.most_common(20)\n",
    "\n",
    "# splitting the words and their frequencies into separate lists\n",
    "words, frequencies = zip(*top_20)\n",
    "\n",
    "plt.figure(figsize=(10, 6))\n",
    "plt.bar(words, frequencies)\n",
    "plt.xticks(rotation=90) \n",
    "plt.title('Top 20 Most Common Words in Tweets')\n",
    "plt.xlabel('Words')\n",
    "plt.ylabel('Frequency')\n",
    "plt.show()"
   ]
  },
  {
   "cell_type": "code",
   "execution_count": 39,
   "metadata": {
    "scrolled": true
   },
   "outputs": [
    {
     "data": {
      "application/javascript": [
       "\n",
       "        if (window._pyforest_update_imports_cell) { window._pyforest_update_imports_cell('import seaborn as sns\\nimport nltk'); }\n",
       "    "
      ],
      "text/plain": [
       "<IPython.core.display.Javascript object>"
      ]
     },
     "metadata": {},
     "output_type": "display_data"
    },
    {
     "data": {
      "image/png": "[encoded data removed]",
      "text/plain": [
       "<Figure size 720x432 with 1 Axes>"
      ]
     },
     "metadata": {
      "needs_background": "light"
     },
     "output_type": "display_data"
    }
   ],
   "source": [
    "word_emotion_counts = {}\n",
    "\n",
    "# iterating through each tweet\n",
    "for index in range(df.shape[0]):\n",
    "    text = df.tweet_text.iloc[index]\n",
    "    emotion = df.is_there_an_emotion_directed_at_a_brand_or_product.iloc[index]  \n",
    "\n",
    "    for word in text:  \n",
    "        if word not in word_emotion_counts:\n",
    "            word_emotion_counts[word] = [0, 0, 0]  # [neutral, positive, negative]\n",
    "\n",
    "        if emotion == 'No emotion toward brand or product':\n",
    "            word_emotion_counts[word][0] += 1\n",
    "        elif emotion == 'Positive emotion':\n",
    "            word_emotion_counts[word][1] += 1\n",
    "        elif emotion == 'Negative emotion':\n",
    "            word_emotion_counts[word][2] += 1\n",
    "            \n",
    "word_emotion_counts\n",
    "emotion_data = []\n",
    "for word, counts in word_emotion_counts.items():\n",
    "    emotion_data.append({'word': word, 'neutral': counts[0], 'positive': counts[1], 'negative': counts[2]})\n",
    "\n",
    "emotion_df = pd.DataFrame(emotion_data)\n",
    "\n",
    "# getting the top 10 words by frequency (neutral + positive + negative counts)\n",
    "top_words = emotion_df.set_index('word').sum(axis=1).nlargest(10).index\n",
    "top_words_df = emotion_df[emotion_df['word'].isin(top_words)]\n",
    "\n",
    "# reshape the dataFrame for plotting\n",
    "top_words_melted = top_words_df.melt(id_vars='word', value_vars=['neutral', 'positive', 'negative'], \n",
    "                                     var_name='emotion', value_name='count')\n",
    "\n",
    "# bar plot with hue for emotion\n",
    "plt.figure(figsize=(10, 6))\n",
    "sns.barplot(x='word', y='count', hue='emotion', data=top_words_melted, palette='coolwarm', \n",
    "            order=top_words)  \n",
    "plt.title('Top 10 Most Frequent Words by Emotion (Ascending Order)')\n",
    "plt.ylabel('Frequency')\n",
    "plt.xticks(rotation=45)\n",
    "plt.show()"
   ]
  },
  {
   "cell_type": "code",
   "execution_count": 40,
   "metadata": {},
   "outputs": [
    {
     "data": {
      "text/plain": [
       "array(['Negative emotion', 'Positive emotion',\n",
       "       'No emotion toward brand or product', \"I can't tell\"], dtype=object)"
      ]
     },
     "execution_count": 40,
     "metadata": {},
     "output_type": "execute_result"
    }
   ],
   "source": [
    "df.is_there_an_emotion_directed_at_a_brand_or_product.unique()"
   ]
  },
  {
   "cell_type": "code",
   "execution_count": 41,
   "metadata": {},
   "outputs": [
    {
     "data": {
      "application/javascript": [
       "\n",
       "        if (window._pyforest_update_imports_cell) { window._pyforest_update_imports_cell('import seaborn as sns\\nimport nltk'); }\n",
       "    "
      ],
      "text/plain": [
       "<IPython.core.display.Javascript object>"
      ]
     },
     "metadata": {},
     "output_type": "display_data"
    },
    {
     "data": {
      "image/png": "[encoded data removed]",
      "text/plain": [
       "<Figure size 720x432 with 1 Axes>"
      ]
     },
     "metadata": {
      "needs_background": "light"
     },
     "output_type": "display_data"
    }
   ],
   "source": [
    "# empty dictionary for word counts by emotion\n",
    "word_emotion_counts = {}\n",
    "\n",
    "# get the unique values for brands\n",
    "emotion_values = df['is_there_an_emotion_directed_at_a_brand_or_product'].unique()\n",
    "\n",
    "for index in range(df.shape[0]):\n",
    "    text = df.tweet_text.iloc[index]\n",
    "    emotion = df['is_there_an_emotion_directed_at_a_brand_or_product'].iloc[index]  \n",
    "\n",
    "     \n",
    "    for word in text:\n",
    "        if word not in word_emotion_counts:\n",
    "            word_emotion_counts[word] = {emotion: 0 for emotion in emotion_values}  # initializing for each emotion\n",
    "\n",
    "        # increment the word count for the specific emotion\n",
    "        word_emotion_counts[word][emotion] += 1\n",
    "\n",
    "# create dataFrame from the word_emotion_counts dictionary\n",
    "emotion_data = []\n",
    "for word, counts in word_emotion_counts.items():\n",
    "    emotion_data.append({'word': word, **counts})\n",
    "\n",
    "emotion_df = pd.DataFrame(emotion_data)\n",
    "\n",
    "# Get the top 10 words by total frequency across all emotions\n",
    "top_words = emotion_df.set_index('word').sum(axis=1).nlargest(10).index\n",
    "top_words_df = emotion_df[emotion_df['word'].isin(top_words)]\n",
    "\n",
    "# Reshape the DataFrame for plotting\n",
    "top_words_melted = top_words_df.melt(id_vars='word', value_vars=emotion_values, \n",
    "                                     var_name='emotion', value_name='count')\n",
    "\n",
    "# Create a bar plot with hue for emotion\n",
    "plt.figure(figsize=(10, 6))\n",
    "sns.barplot(x='word', y='count', hue='emotion', data=top_words_melted, palette='YlOrRd_r', \n",
    "            order=top_words)  # Ensure words are ordered in ascending order\n",
    "plt.title('Top 10 Most Frequent Words by Emotion Directed at Brand/Product')\n",
    "plt.ylabel('Frequency')\n",
    "plt.xticks(rotation=45)\n",
    "plt.show()"
   ]
  },
  {
   "cell_type": "markdown",
   "metadata": {
    "id": "hXeipaC8a3Xd"
   },
   "source": [
    "# Preprocessing"
   ]
  },
  {
   "cell_type": "markdown",
   "metadata": {
    "id": "o4HgYojaa7cG"
   },
   "source": [
    "# Modeling"
   ]
  },
  {
   "cell_type": "markdown",
   "metadata": {
    "id": "tFkac30fbEbi"
   },
   "source": [
    "# Conclusion"
   ]
  }
 ],
 "metadata": {
  "colab": {
   "provenance": []
  },
  "kernelspec": {
   "display_name": "Python 3 (ipykernel)",
   "language": "python",
   "name": "python3"
  },
  "language_info": {
   "codemirror_mode": {
    "name": "ipython",
    "version": 3
   },
   "file_extension": ".py",
   "mimetype": "text/x-python",
   "name": "python",
   "nbconvert_exporter": "python",
   "pygments_lexer": "ipython3",
   "version": "3.9.7"
  },
  "toc": {
   "base_numbering": 1,
   "nav_menu": {},
   "number_sections": true,
   "sideBar": true,
   "skip_h1_title": false,
   "title_cell": "Table of Contents",
   "title_sidebar": "Contents",
   "toc_cell": false,
   "toc_position": {},
   "toc_section_display": true,
   "toc_window_display": false
  }
 },
 "nbformat": 4,
 "nbformat_minor": 1
}
