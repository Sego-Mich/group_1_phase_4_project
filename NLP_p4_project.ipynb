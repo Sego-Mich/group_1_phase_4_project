{
  "nbformat": 4,
  "nbformat_minor": 0,
  "metadata": {
    "colab": {
      "provenance": []
    },
    "kernelspec": {
      "name": "python3",
      "display_name": "Python 3"
    },
    "language_info": {
      "name": "python"
    }
  },
  "cells": [
    {
      "cell_type": "markdown",
      "source": [
        "Business understanding"
      ],
      "metadata": {
        "id": "VoHeOMzqSw6J"
      }
    },
    {
      "cell_type": "markdown",
      "source": [
        "1.1 Project overview"
      ],
      "metadata": {
        "id": "rLzLaTb8WFaC"
      }
    },
    {
      "cell_type": "markdown",
      "source": [
        "1.2 Business problem"
      ],
      "metadata": {
        "id": "jdyI-g6kWLOY"
      }
    },
    {
      "cell_type": "markdown",
      "source": [
        "Project objectives"
      ],
      "metadata": {
        "id": "b4uTUHneWUz7"
      }
    },
    {
      "cell_type": "markdown",
      "source": [
        "justification"
      ],
      "metadata": {
        "id": "G9fELbbLZY_T"
      }
    },
    {
      "cell_type": "markdown",
      "source": [
        "Questions"
      ],
      "metadata": {
        "id": "_j3Y4hcKZeNG"
      }
    },
    {
      "cell_type": "markdown",
      "source": [
        "Data understanding"
      ],
      "metadata": {
        "id": "ETMORyxuZovk"
      }
    },
    {
      "cell_type": "markdown",
      "source": [
        "Data Collection"
      ],
      "metadata": {
        "id": "6LN7yQAgZr9K"
      }
    },
    {
      "cell_type": "markdown",
      "source": [
        "load libraries"
      ],
      "metadata": {
        "id": "sNo_zYT2ZzTe"
      }
    },
    {
      "cell_type": "markdown",
      "source": [
        "Load the data"
      ],
      "metadata": {
        "id": "dAgtDaHOZ1qW"
      }
    },
    {
      "cell_type": "markdown",
      "source": [
        "Data cleaning"
      ],
      "metadata": {
        "id": "_jMZC6O8Z7Ph"
      }
    },
    {
      "cell_type": "markdown",
      "source": [
        "Correct formats"
      ],
      "metadata": {
        "id": "MjpHOLDuaM8b"
      }
    },
    {
      "cell_type": "markdown",
      "source": [
        "Missing Values"
      ],
      "metadata": {
        "id": "iGwoM5kxaRC7"
      }
    },
    {
      "cell_type": "markdown",
      "source": [
        "Analysis"
      ],
      "metadata": {
        "id": "XVKxmVvOaUgA"
      }
    },
    {
      "cell_type": "markdown",
      "source": [
        "Preprocessing"
      ],
      "metadata": {
        "id": "hXeipaC8a3Xd"
      }
    },
    {
      "cell_type": "markdown",
      "source": [
        "Modeling"
      ],
      "metadata": {
        "id": "o4HgYojaa7cG"
      }
    },
    {
      "cell_type": "markdown",
      "source": [
        "Evaluation"
      ],
      "metadata": {
        "id": "AF35QpfOa9PS"
      }
    },
    {
      "cell_type": "markdown",
      "source": [
        "Conclusion"
      ],
      "metadata": {
        "id": "tFkac30fbEbi"
      }
    }
  ]
}