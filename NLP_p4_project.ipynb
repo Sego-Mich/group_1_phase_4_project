{
 "cells": [
  {
   "cell_type": "markdown",
   "metadata": {
    "id": "VoHeOMzqSw6J"
   },
   "source": [
    "# Business understanding\n",
    "In today’s digital age, social media platforms like Twitter provide a massive amount of real-time insights into consumer opinions, especially regarding products and services. For tech giants like Apple and Google, monitoring sentiment around their products can be a crucial business strategy. Understanding how consumers feel about their offerings—whether positively, negatively, or neutrally—helps inform marketing strategies, product development, and customer support."
   ]
  },
  {
   "cell_type": "markdown",
   "metadata": {
    "id": "rLzLaTb8WFaC"
   },
   "source": [
    "## Project overview\n",
    "This project aims to build a Natural Language Processing (NLP) model to analyze the sentiment of Tweets specifically related to Apple and Google products. The dataset consists of over 9,000 tweets that have been rated by human annotators as positive, negative, or neutral in sentiment. The goal is to create an accurate machine learning model capable of classifying these tweets based on the emotional tone of the content.\n",
    "\n",
    "The task is not just about automating sentiment analysis; it's about delivering actionable insights that can be used to understand customer feedback, inform decision-making processes, and possibly predict how future product releases might be received by consumers. By building a reliable sentiment analysis tool, businesses like Apple and Google can respond to customer feedback more effectively and refine their strategies accordingly."
   ]
  },
  {
   "cell_type": "markdown",
   "metadata": {
    "id": "jdyI-g6kWLOY"
   },
   "source": [
    "## Business problem\n",
    "Apple and Google are two of the most influential tech companies globally, with millions of users and customers who actively discuss their products on platforms like Twitter. However, manually analyzing sentiment in these discussions would be both time-consuming and impractical given the sheer volume of tweets. Therefore, automating sentiment analysis using an NLP model will allow both companies to process and understand consumer opinions quickly and at scale. This could give them a competitive edge by allowing for a timely response to customer feedback, identifying emerging issues, and improving customer satisfaction and brand loyalty"
   ]
  },
  {
   "cell_type": "markdown",
   "metadata": {
    "id": "b4uTUHneWUz7"
   },
   "source": [
    "## Project objectives\n",
    "### Main Objective\n",
    "\n",
    "- The primary objective is to develop an NLP-based machine learning model that can accurately classify the sentiment of tweets related to Apple and Google products as positive, negative, or neutral.\n",
    "### Specific Objectives\n",
    "\n"
   ]
  },
  {
   "cell_type": "markdown",
   "metadata": {
    "id": "G9fELbbLZY_T"
   },
   "source": [
    "## Justification\n",
    "Understanding sentiment at scale is critical for organizations in highly competitive industries like tech. By automating the analysis of millions of tweets related to Apple and Google products, companies can quickly gauge customer satisfaction, identify emerging trends, and proactively address negative sentiments. Sentiment analysis also allows these companies to measure the impact of new product releases, marketing campaigns, and public relations efforts."
   ]
  },
  {
   "cell_type": "markdown",
   "metadata": {
    "id": "_j3Y4hcKZeNG"
   },
   "source": [
    "## Questions "
   ]
  },
  {
   "cell_type": "markdown",
   "metadata": {
    "id": "ETMORyxuZovk"
   },
   "source": [
    "# Data understanding"
   ]
  },
  {
   "cell_type": "markdown",
   "metadata": {
    "id": "6LN7yQAgZr9K"
   },
   "source": [
    "## Data Collection\n",
    "The dataset for this project comes from [CrowdFlower](https://data.world/crowdflower/brands-and-product-emotions) and contains over 9,000 tweets labeled with sentiment (positive, negative, or neutral). These labeled examples provide a training set to build and evaluate the sentiment classification model. The data is enriched with various features such as tweet text, tweet ID, user ID, and the sentiment label, which is crucial for training the model.\n",
    "\n",
    "To further improve the model, external data such as newer tweets about Apple and Google products or additional labeled sentiment datasets might be useful for retraining or fine-tuning."
   ]
  },
  {
   "cell_type": "markdown",
   "metadata": {
    "id": "sNo_zYT2ZzTe"
   },
   "source": [
    "### Load libraries"
   ]
  },
  {
   "cell_type": "code",
   "execution_count": 1,
   "metadata": {},
   "outputs": [
    {
     "data": {
      "application/javascript": [
       "\n",
       "        if (window._pyforest_update_imports_cell) { window._pyforest_update_imports_cell('import nltk'); }\n",
       "    "
      ],
      "text/plain": [
       "<IPython.core.display.Javascript object>"
      ]
     },
     "metadata": {},
     "output_type": "display_data"
    },
    {
     "name": "stderr",
     "output_type": "stream",
     "text": [
      "[nltk_data] Downloading package wordnet to\n",
      "[nltk_data]     C:\\Users\\Mich\\AppData\\Roaming\\nltk_data...\n",
      "[nltk_data]   Package wordnet is already up-to-date!\n"
     ]
    }
   ],
   "source": [
    "import pandas as pd\n",
    "import re\n",
    "from nltk.corpus import stopwords\n",
    "from spellchecker import SpellChecker\n",
    "from nltk.stem.wordnet import WordNetLemmatizer\n",
    "nltk.download('wordnet')\n",
    "import emoji\n",
    "from nltk.tokenize import word_tokenize\n",
    "import warnings \n",
    "warnings.filterwarnings(\"ignore\")"
   ]
  },
  {
   "cell_type": "markdown",
   "metadata": {
    "id": "dAgtDaHOZ1qW"
   },
   "source": [
    "### Load the data"
   ]
  },
  {
   "cell_type": "code",
   "execution_count": 2,
   "metadata": {},
   "outputs": [
    {
     "data": {
      "text/html": [
       "<div>\n",
       "<style scoped>\n",
       "    .dataframe tbody tr th:only-of-type {\n",
       "        vertical-align: middle;\n",
       "    }\n",
       "\n",
       "    .dataframe tbody tr th {\n",
       "        vertical-align: top;\n",
       "    }\n",
       "\n",
       "    .dataframe thead th {\n",
       "        text-align: right;\n",
       "    }\n",
       "</style>\n",
       "<table border=\"1\" class=\"dataframe\">\n",
       "  <thead>\n",
       "    <tr style=\"text-align: right;\">\n",
       "      <th></th>\n",
       "      <th>tweet_text</th>\n",
       "      <th>emotion_in_tweet_is_directed_at</th>\n",
       "      <th>is_there_an_emotion_directed_at_a_brand_or_product</th>\n",
       "    </tr>\n",
       "  </thead>\n",
       "  <tbody>\n",
       "    <tr>\n",
       "      <th>0</th>\n",
       "      <td>.@wesley83 I have a 3G iPhone. After 3 hrs twe...</td>\n",
       "      <td>iPhone</td>\n",
       "      <td>Negative emotion</td>\n",
       "    </tr>\n",
       "    <tr>\n",
       "      <th>1</th>\n",
       "      <td>@jessedee Know about @fludapp ? Awesome iPad/i...</td>\n",
       "      <td>iPad or iPhone App</td>\n",
       "      <td>Positive emotion</td>\n",
       "    </tr>\n",
       "    <tr>\n",
       "      <th>2</th>\n",
       "      <td>@swonderlin Can not wait for #iPad 2 also. The...</td>\n",
       "      <td>iPad</td>\n",
       "      <td>Positive emotion</td>\n",
       "    </tr>\n",
       "    <tr>\n",
       "      <th>3</th>\n",
       "      <td>@sxsw I hope this year's festival isn't as cra...</td>\n",
       "      <td>iPad or iPhone App</td>\n",
       "      <td>Negative emotion</td>\n",
       "    </tr>\n",
       "    <tr>\n",
       "      <th>4</th>\n",
       "      <td>@sxtxstate great stuff on Fri #SXSW: Marissa M...</td>\n",
       "      <td>Google</td>\n",
       "      <td>Positive emotion</td>\n",
       "    </tr>\n",
       "  </tbody>\n",
       "</table>\n",
       "</div>"
      ],
      "text/plain": [
       "                                          tweet_text  \\\n",
       "0  .@wesley83 I have a 3G iPhone. After 3 hrs twe...   \n",
       "1  @jessedee Know about @fludapp ? Awesome iPad/i...   \n",
       "2  @swonderlin Can not wait for #iPad 2 also. The...   \n",
       "3  @sxsw I hope this year's festival isn't as cra...   \n",
       "4  @sxtxstate great stuff on Fri #SXSW: Marissa M...   \n",
       "\n",
       "  emotion_in_tweet_is_directed_at  \\\n",
       "0                          iPhone   \n",
       "1              iPad or iPhone App   \n",
       "2                            iPad   \n",
       "3              iPad or iPhone App   \n",
       "4                          Google   \n",
       "\n",
       "  is_there_an_emotion_directed_at_a_brand_or_product  \n",
       "0                                   Negative emotion  \n",
       "1                                   Positive emotion  \n",
       "2                                   Positive emotion  \n",
       "3                                   Negative emotion  \n",
       "4                                   Positive emotion  "
      ]
     },
     "execution_count": 2,
     "metadata": {},
     "output_type": "execute_result"
    }
   ],
   "source": [
    "df = pd.read_csv(\"data/tweet_product_company.csv\", encoding=\"latin-1\")\n",
    "df.head()"
   ]
  },
  {
   "cell_type": "code",
   "execution_count": 3,
   "metadata": {},
   "outputs": [
    {
     "data": {
      "text/html": [
       "<div>\n",
       "<style scoped>\n",
       "    .dataframe tbody tr th:only-of-type {\n",
       "        vertical-align: middle;\n",
       "    }\n",
       "\n",
       "    .dataframe tbody tr th {\n",
       "        vertical-align: top;\n",
       "    }\n",
       "\n",
       "    .dataframe thead th {\n",
       "        text-align: right;\n",
       "    }\n",
       "</style>\n",
       "<table border=\"1\" class=\"dataframe\">\n",
       "  <thead>\n",
       "    <tr style=\"text-align: right;\">\n",
       "      <th></th>\n",
       "      <th>tweet_text</th>\n",
       "      <th>emotion_in_tweet_is_directed_at</th>\n",
       "      <th>is_there_an_emotion_directed_at_a_brand_or_product</th>\n",
       "    </tr>\n",
       "  </thead>\n",
       "  <tbody>\n",
       "    <tr>\n",
       "      <th>9088</th>\n",
       "      <td>Ipad everywhere. #SXSW {link}</td>\n",
       "      <td>iPad</td>\n",
       "      <td>Positive emotion</td>\n",
       "    </tr>\n",
       "    <tr>\n",
       "      <th>9089</th>\n",
       "      <td>Wave, buzz... RT @mention We interrupt your re...</td>\n",
       "      <td>NaN</td>\n",
       "      <td>No emotion toward brand or product</td>\n",
       "    </tr>\n",
       "    <tr>\n",
       "      <th>9090</th>\n",
       "      <td>Google's Zeiger, a physician never reported po...</td>\n",
       "      <td>NaN</td>\n",
       "      <td>No emotion toward brand or product</td>\n",
       "    </tr>\n",
       "    <tr>\n",
       "      <th>9091</th>\n",
       "      <td>Some Verizon iPhone customers complained their...</td>\n",
       "      <td>NaN</td>\n",
       "      <td>No emotion toward brand or product</td>\n",
       "    </tr>\n",
       "    <tr>\n",
       "      <th>9092</th>\n",
       "      <td>Ï¡Ïàü_ÊÎÒ£Áââ_£â_ÛâRT @...</td>\n",
       "      <td>NaN</td>\n",
       "      <td>No emotion toward brand or product</td>\n",
       "    </tr>\n",
       "  </tbody>\n",
       "</table>\n",
       "</div>"
      ],
      "text/plain": [
       "                                             tweet_text  \\\n",
       "9088                      Ipad everywhere. #SXSW {link}   \n",
       "9089  Wave, buzz... RT @mention We interrupt your re...   \n",
       "9090  Google's Zeiger, a physician never reported po...   \n",
       "9091  Some Verizon iPhone customers complained their...   \n",
       "9092  Ï¡Ïàü_ÊÎÒ£Áââ_£â_ÛâRT @...   \n",
       "\n",
       "     emotion_in_tweet_is_directed_at  \\\n",
       "9088                            iPad   \n",
       "9089                             NaN   \n",
       "9090                             NaN   \n",
       "9091                             NaN   \n",
       "9092                             NaN   \n",
       "\n",
       "     is_there_an_emotion_directed_at_a_brand_or_product  \n",
       "9088                                   Positive emotion  \n",
       "9089                 No emotion toward brand or product  \n",
       "9090                 No emotion toward brand or product  \n",
       "9091                 No emotion toward brand or product  \n",
       "9092                 No emotion toward brand or product  "
      ]
     },
     "execution_count": 3,
     "metadata": {},
     "output_type": "execute_result"
    }
   ],
   "source": [
    "df.tail()"
   ]
  },
  {
   "cell_type": "code",
   "execution_count": 4,
   "metadata": {},
   "outputs": [
    {
     "data": {
      "text/html": [
       "<div>\n",
       "<style scoped>\n",
       "    .dataframe tbody tr th:only-of-type {\n",
       "        vertical-align: middle;\n",
       "    }\n",
       "\n",
       "    .dataframe tbody tr th {\n",
       "        vertical-align: top;\n",
       "    }\n",
       "\n",
       "    .dataframe thead th {\n",
       "        text-align: right;\n",
       "    }\n",
       "</style>\n",
       "<table border=\"1\" class=\"dataframe\">\n",
       "  <thead>\n",
       "    <tr style=\"text-align: right;\">\n",
       "      <th></th>\n",
       "      <th>tweet_text</th>\n",
       "      <th>emotion_in_tweet_is_directed_at</th>\n",
       "      <th>is_there_an_emotion_directed_at_a_brand_or_product</th>\n",
       "    </tr>\n",
       "  </thead>\n",
       "  <tbody>\n",
       "    <tr>\n",
       "      <th>6255</th>\n",
       "      <td>RT @mention Line for Source Code is even longe...</td>\n",
       "      <td>Apple</td>\n",
       "      <td>Negative emotion</td>\n",
       "    </tr>\n",
       "    <tr>\n",
       "      <th>4304</th>\n",
       "      <td>yawn RT @mention Apple set to open a pop-up sh...</td>\n",
       "      <td>Apple</td>\n",
       "      <td>Positive emotion</td>\n",
       "    </tr>\n",
       "    <tr>\n",
       "      <th>7329</th>\n",
       "      <td>want an ipad 2? here is your chance: Apple ope...</td>\n",
       "      <td>NaN</td>\n",
       "      <td>No emotion toward brand or product</td>\n",
       "    </tr>\n",
       "    <tr>\n",
       "      <th>5203</th>\n",
       "      <td>RT @mention #Android App Review: #SXSW Go. | {...</td>\n",
       "      <td>NaN</td>\n",
       "      <td>No emotion toward brand or product</td>\n",
       "    </tr>\n",
       "    <tr>\n",
       "      <th>2549</th>\n",
       "      <td>@mention do I get bonus points if I collect al...</td>\n",
       "      <td>NaN</td>\n",
       "      <td>No emotion toward brand or product</td>\n",
       "    </tr>\n",
       "  </tbody>\n",
       "</table>\n",
       "</div>"
      ],
      "text/plain": [
       "                                             tweet_text  \\\n",
       "6255  RT @mention Line for Source Code is even longe...   \n",
       "4304  yawn RT @mention Apple set to open a pop-up sh...   \n",
       "7329  want an ipad 2? here is your chance: Apple ope...   \n",
       "5203  RT @mention #Android App Review: #SXSW Go. | {...   \n",
       "2549  @mention do I get bonus points if I collect al...   \n",
       "\n",
       "     emotion_in_tweet_is_directed_at  \\\n",
       "6255                           Apple   \n",
       "4304                           Apple   \n",
       "7329                             NaN   \n",
       "5203                             NaN   \n",
       "2549                             NaN   \n",
       "\n",
       "     is_there_an_emotion_directed_at_a_brand_or_product  \n",
       "6255                                   Negative emotion  \n",
       "4304                                   Positive emotion  \n",
       "7329                 No emotion toward brand or product  \n",
       "5203                 No emotion toward brand or product  \n",
       "2549                 No emotion toward brand or product  "
      ]
     },
     "execution_count": 4,
     "metadata": {},
     "output_type": "execute_result"
    }
   ],
   "source": [
    "df.sample(5)"
   ]
  },
  {
   "cell_type": "markdown",
   "metadata": {
    "id": "_jMZC6O8Z7Ph"
   },
   "source": [
    "#  Data cleaning"
   ]
  },
  {
   "cell_type": "markdown",
   "metadata": {
    "id": "MjpHOLDuaM8b"
   },
   "source": [
    "## Correct formats"
   ]
  },
  {
   "cell_type": "code",
   "execution_count": 5,
   "metadata": {},
   "outputs": [
    {
     "name": "stdout",
     "output_type": "stream",
     "text": [
      "<class 'pandas.core.frame.DataFrame'>\n",
      "RangeIndex: 9093 entries, 0 to 9092\n",
      "Data columns (total 3 columns):\n",
      " #   Column                                              Non-Null Count  Dtype \n",
      "---  ------                                              --------------  ----- \n",
      " 0   tweet_text                                          9092 non-null   object\n",
      " 1   emotion_in_tweet_is_directed_at                     3291 non-null   object\n",
      " 2   is_there_an_emotion_directed_at_a_brand_or_product  9093 non-null   object\n",
      "dtypes: object(3)\n",
      "memory usage: 213.2+ KB\n"
     ]
    }
   ],
   "source": [
    "df.info()"
   ]
  },
  {
   "cell_type": "markdown",
   "metadata": {},
   "source": [
    "- **tweet_text**: The data type `object` is appropriate as it contains text data.\n",
    "- **emotion_in_tweet_is_directed_at**: The `object` type is suitable since it likely contains categorical or string values indicating emotion direction.\n",
    "- **is_there_an_emotion_directed_at_a_brand_or_product**: The `object` type is correct as it likely holds categorical values (e.g., \"Yes\" or \"No\").\n",
    "\n",
    "\n",
    "All columns have the correct data type (`object`) for their respective content."
   ]
  },
  {
   "cell_type": "markdown",
   "metadata": {
    "id": "iGwoM5kxaRC7"
   },
   "source": [
    "## Missing Values"
   ]
  },
  {
   "cell_type": "code",
   "execution_count": 6,
   "metadata": {},
   "outputs": [
    {
     "data": {
      "text/plain": [
       "tweet_text                                               1\n",
       "emotion_in_tweet_is_directed_at                       5802\n",
       "is_there_an_emotion_directed_at_a_brand_or_product       0\n",
       "dtype: int64"
      ]
     },
     "execution_count": 6,
     "metadata": {},
     "output_type": "execute_result"
    }
   ],
   "source": [
    "df.isna().sum()"
   ]
  },
  {
   "cell_type": "markdown",
   "metadata": {},
   "source": [
    "- The dataset has a total of 9093 rows.\n",
    "- The **tweet_text** is the primary feature and is almost complete.\n",
    "- The other two features have missing values and might require further preprocessing before use in sentiment analysis or classification tasks.\n",
    "\n"
   ]
  },
  {
   "cell_type": "markdown",
   "metadata": {},
   "source": [
    "Removing rows with the missing value in **tweet_text** "
   ]
  },
  {
   "cell_type": "code",
   "execution_count": 7,
   "metadata": {},
   "outputs": [
    {
     "data": {
      "text/plain": [
       "tweet_text                                               0\n",
       "emotion_in_tweet_is_directed_at                       5801\n",
       "is_there_an_emotion_directed_at_a_brand_or_product       0\n",
       "dtype: int64"
      ]
     },
     "execution_count": 7,
     "metadata": {},
     "output_type": "execute_result"
    }
   ],
   "source": [
    "df.dropna(subset=[\"tweet_text\"],inplace=True)\n",
    "df.isna().sum()"
   ]
  },
  {
   "cell_type": "markdown",
   "metadata": {},
   "source": [
    "Removing column **emotion_in_tweet_is_directed_at**"
   ]
  },
  {
   "cell_type": "code",
   "execution_count": 8,
   "metadata": {},
   "outputs": [
    {
     "data": {
      "text/plain": [
       "tweet_text                                            0\n",
       "is_there_an_emotion_directed_at_a_brand_or_product    0\n",
       "dtype: int64"
      ]
     },
     "execution_count": 8,
     "metadata": {},
     "output_type": "execute_result"
    }
   ],
   "source": [
    "product_names = df.emotion_in_tweet_is_directed_at.unique()\n",
    "df.drop(columns=[\"emotion_in_tweet_is_directed_at\"],inplace=True)\n",
    "df.isna().sum() "
   ]
  },
  {
   "cell_type": "code",
   "execution_count": 9,
   "metadata": {},
   "outputs": [],
   "source": [
    "df[\"original_tweet\"]= df.tweet_text"
   ]
  },
  {
   "cell_type": "markdown",
   "metadata": {},
   "source": [
    "## Feature Engineering"
   ]
  },
  {
   "cell_type": "markdown",
   "metadata": {},
   "source": [
    "### Lowercasing\n",
    "Convert all `tweet_text` to lowercase to maintain consistency"
   ]
  },
  {
   "cell_type": "code",
   "execution_count": 10,
   "metadata": {},
   "outputs": [],
   "source": [
    "df.tweet_text = df.tweet_text.str.lower()"
   ]
  },
  {
   "cell_type": "markdown",
   "metadata": {},
   "source": [
    "**Converting Transcript to strings**"
   ]
  },
  {
   "cell_type": "code",
   "execution_count": 11,
   "metadata": {},
   "outputs": [],
   "source": [
    "def transcription_to_strings(df): \n",
    "    # matches basic sad face :(, :-(\n",
    "    sad_face = re.compile(r'[:;8]?[\\'\\-]?\\([/\\\\]')  \n",
    "    \n",
    "    # matches crying face :'(, :'-(\n",
    "    crying_face = re.compile(r'[:;8]?[\\'\\-]?\\'\\(')  \n",
    "    \n",
    "    # matches complex sad faces with slashes, tears, etc.\n",
    "    complex_sad_face = re.compile(r'[:;8]?[\\'\\-]?\\([/\\\\]\\)?')  \n",
    "    \n",
    "    # edge case: faces with tears or creative symbols like T_T, TT_TT\n",
    "    crying_edge_case = re.compile(r'(T_T|tt_t|TT_TT)')\n",
    "    \n",
    "    # apply pattern replacement across the DataFrame's text column\n",
    "    df['tweet_text'] = df['tweet_text'].apply(lambda x: \n",
    "        crying_edge_case.sub('crying face', \n",
    "        complex_sad_face.sub('complex sad face', \n",
    "        crying_face.sub('crying face', \n",
    "        sad_face.sub('sad face', x)))))\n",
    "\n",
    "transcription_to_strings(df)\n",
    "    "
   ]
  },
  {
   "cell_type": "markdown",
   "metadata": {},
   "source": [
    "**Dealing with emojis**"
   ]
  },
  {
   "cell_type": "code",
   "execution_count": 12,
   "metadata": {},
   "outputs": [],
   "source": [
    "for index in range(df.tweet_text.shape[0]):\n",
    "    df.tweet_text.iloc[index] = emoji.demojize(df.tweet_text.iloc[index])"
   ]
  },
  {
   "cell_type": "markdown",
   "metadata": {},
   "source": [
    "**Replacing abbreviation with its full form**"
   ]
  },
  {
   "cell_type": "code",
   "execution_count": 13,
   "metadata": {},
   "outputs": [],
   "source": [
    "import json\n",
    "\n",
    "# Load abbreviation dictionary from abbr.txt\n",
    "with open('abbr.txt', 'r') as file:\n",
    "    abbr_dict = json.load(file)\n",
    "\n",
    "# Function to expand abbreviations in a tweet\n",
    "def expand_abbr_in_tweet(text):\n",
    "    return \" \".join([abbr_dict.get(word, word) for word in text.split()])\n",
    "\n",
    "# Apply the function to each tweet in the DataFrame\n",
    "df['tweet_text'] = df['tweet_text'].apply(expand_abbr_in_tweet)"
   ]
  },
  {
   "cell_type": "markdown",
   "metadata": {},
   "source": [
    "### Removing Links\n",
    "First check if there is any links"
   ]
  },
  {
   "cell_type": "code",
   "execution_count": 14,
   "metadata": {},
   "outputs": [
    {
     "name": "stdout",
     "output_type": "stream",
     "text": [
      "All links found in the dataset:\n"
     ]
    }
   ],
   "source": [
    "def extract_links(text):\n",
    "    # Regular expression to match URLs\n",
    "    links = re.findall(r'http\\S+|www\\S+', text)\n",
    "    return links\n",
    "\n",
    "# list to store links\n",
    "links_list = df['tweet_text'].apply(extract_links)\n",
    "#  list of stored lists and print all links found\n",
    "all_links = [link for sublist in links_list for link in sublist]\n",
    "if len(links_list):\n",
    "    print(\"All links found in the dataset:\")\n",
    "else:\n",
    "    print(\"No links\") "
   ]
  },
  {
   "cell_type": "markdown",
   "metadata": {},
   "source": [
    "Removing links found"
   ]
  },
  {
   "cell_type": "code",
   "execution_count": 15,
   "metadata": {},
   "outputs": [],
   "source": [
    "for index in range(df.tweet_text.shape[0]):\n",
    "    df.tweet_text.iloc[index] = re.sub(r'http\\S+|www\\S+', '',df.tweet_text.iloc[index])"
   ]
  },
  {
   "cell_type": "markdown",
   "metadata": {},
   "source": [
    "Checking if any links are remaining"
   ]
  },
  {
   "cell_type": "code",
   "execution_count": 16,
   "metadata": {},
   "outputs": [
    {
     "name": "stdout",
     "output_type": "stream",
     "text": [
      "No links\n"
     ]
    }
   ],
   "source": [
    "def extract_links(text):\n",
    "    # Regular expression to match URLs\n",
    "    links = re.findall(r'http\\S+|www\\S+', text)\n",
    "    return links\n",
    "\n",
    "# list to store links\n",
    "links_list = df['tweet_text'].apply(extract_links)\n",
    "#  list of stored lists and print all links found\n",
    "all_links = [link for sublist in links_list for link in sublist]\n",
    "if len(all_links):\n",
    "    print(\"Links found in the dataset:\")\n",
    "else:\n",
    "    print(\"No links\") "
   ]
  },
  {
   "cell_type": "markdown",
   "metadata": {},
   "source": [
    "**Removing Usernames**\n",
    "\n",
    "Checking for twitter usernames"
   ]
  },
  {
   "cell_type": "code",
   "execution_count": 17,
   "metadata": {},
   "outputs": [
    {
     "name": "stdout",
     "output_type": "stream",
     "text": [
      "Usernames found in the dataset\n"
     ]
    }
   ],
   "source": [
    "def extract_usernames(text):\n",
    "    # Regular expression to match #\n",
    "    usernames = re.findall(r'@\\S+', text)\n",
    "    return usernames\n",
    "\n",
    "def check_usernames():# list to store usernames\n",
    "    usernames_list = df['tweet_text'].apply(extract_usernames)\n",
    "    #  list of stored lists and print all usernames found\n",
    "    all_usernames = [hashtag for sublist in usernames_list for hashtag in sublist]\n",
    "    if len(all_usernames):\n",
    "        print(\"Usernames found in the dataset\")\n",
    "    else:\n",
    "        print(\"No usernames\") \n",
    "check_usernames()"
   ]
  },
  {
   "cell_type": "code",
   "execution_count": 18,
   "metadata": {},
   "outputs": [],
   "source": [
    "for index in range(df.tweet_text.shape[0]):\n",
    "    df.tweet_text.iloc[index] = re.sub(r'@\\S+', '',df.tweet_text.iloc[index])"
   ]
  },
  {
   "cell_type": "code",
   "execution_count": 19,
   "metadata": {},
   "outputs": [
    {
     "name": "stdout",
     "output_type": "stream",
     "text": [
      "No usernames\n"
     ]
    }
   ],
   "source": [
    "check_usernames()"
   ]
  },
  {
   "cell_type": "markdown",
   "metadata": {},
   "source": [
    "**Removing Hashtags**\n",
    "\n",
    "Let us first check if there is any hashtags"
   ]
  },
  {
   "cell_type": "code",
   "execution_count": 20,
   "metadata": {},
   "outputs": [
    {
     "name": "stdout",
     "output_type": "stream",
     "text": [
      "hashtags found in the dataset\n"
     ]
    }
   ],
   "source": [
    "def extract_hashtags(text):\n",
    "    # Regular expression to match #\n",
    "    hashtags = re.findall(r'#\\S+', text)\n",
    "    return hashtags\n",
    "\n",
    "def check_hashtags():# list to store hashtags\n",
    "    hashtags_list = df['tweet_text'].apply(extract_hashtags)\n",
    "    #  list of stored lists and print all hashtags found\n",
    "    all_hashtags = [hashtag for sublist in hashtags_list for hashtag in sublist]\n",
    "    if len(all_hashtags):\n",
    "        print(\"hashtags found in the dataset\")\n",
    "    else:\n",
    "        print(\"No hashtags\") \n",
    "check_hashtags()"
   ]
  },
  {
   "cell_type": "code",
   "execution_count": 21,
   "metadata": {},
   "outputs": [],
   "source": [
    "for index in range(df.tweet_text.shape[0]):\n",
    "    df.tweet_text.iloc[index] = re.sub(r'#\\S+', '',df.tweet_text.iloc[index])"
   ]
  },
  {
   "cell_type": "code",
   "execution_count": 22,
   "metadata": {},
   "outputs": [
    {
     "name": "stdout",
     "output_type": "stream",
     "text": [
      "No hashtags\n"
     ]
    }
   ],
   "source": [
    "check_hashtags()"
   ]
  },
  {
   "cell_type": "markdown",
   "metadata": {},
   "source": [
    "**Removing Punctuation**"
   ]
  },
  {
   "cell_type": "code",
   "execution_count": 23,
   "metadata": {},
   "outputs": [],
   "source": [
    "import string\n",
    "# Function to remove punctuation\n",
    "def remove_punctuation(text):\n",
    "    return text.translate(str.maketrans('', '', string.punctuation))\n",
    "\n",
    "# Apply the function to the tweet_text column\n",
    "df['tweet_text'] = df['tweet_text'].apply(remove_punctuation)"
   ]
  },
  {
   "cell_type": "markdown",
   "metadata": {},
   "source": [
    "**Dealing with Numbers**"
   ]
  },
  {
   "cell_type": "code",
   "execution_count": 24,
   "metadata": {},
   "outputs": [],
   "source": [
    "from num2words import num2words \n",
    "for index in range(df.tweet_text.shape[0]):\n",
    "    text = df.tweet_text.iloc[index]  \n",
    "    words = text.split()\n",
    "    \n",
    "    # Initialize an empty list to store the converted words\n",
    "    converted_text = []\n",
    "    #  try-except to safely handle any errors during the conversion \n",
    "    for word in words:\n",
    "        try:\n",
    "            # If the word is a digit, convert it to its word form\n",
    "            if word.isdigit():\n",
    "                converted_word = num2words(int(word))\n",
    "                converted_text.append(converted_word)\n",
    "            else:\n",
    "                converted_text.append(word)\n",
    "        except Exception as e:\n",
    "            # If there's an error, append the word as-is\n",
    "            converted_text.append(word) \n",
    "    # Join the converted words back into a string\n",
    "    df.tweet_text.iloc[index] = \" \".join(converted_text)"
   ]
  },
  {
   "cell_type": "markdown",
   "metadata": {},
   "source": [
    "**Spell Checking**"
   ]
  },
  {
   "cell_type": "markdown",
   "metadata": {},
   "source": [
    "from spellchecker import SpellChecker\n",
    "\n",
    "# Initialize the SpellChecker\n",
    "spell = SpellChecker()\n",
    "\n",
    "# Loop over each tweet in the DataFrame\n",
    "for index in range(df.tweet_text.shape[0]):\n",
    "    text = df.tweet_text.iloc[index]\n",
    "    words = text.split()\n",
    "    \n",
    "    # Initialize an empty list to store the corrected words\n",
    "    corrected_text = []\n",
    "    \n",
    "    # Loop over each word in the tweet\n",
    "    for word in words:\n",
    "        # Check for spelling mistakes and correct them\n",
    "        corrected_word = spell.correction(word)\n",
    "        \n",
    "        # If no correction is found, keep the original word\n",
    "        if corrected_word is None:\n",
    "            corrected_word = word\n",
    "        \n",
    "        corrected_text.append(corrected_word)\n",
    "    \n",
    "    # Join the corrected words back into a string\n",
    "    df.tweet_text.iloc[index] = \" \".join(corrected_text)\n"
   ]
  },
  {
   "cell_type": "markdown",
   "metadata": {},
   "source": [
    "**Removing Stopwords**"
   ]
  },
  {
   "cell_type": "code",
   "execution_count": 25,
   "metadata": {},
   "outputs": [
    {
     "data": {
      "text/html": [
       "<div>\n",
       "<style scoped>\n",
       "    .dataframe tbody tr th:only-of-type {\n",
       "        vertical-align: middle;\n",
       "    }\n",
       "\n",
       "    .dataframe tbody tr th {\n",
       "        vertical-align: top;\n",
       "    }\n",
       "\n",
       "    .dataframe thead th {\n",
       "        text-align: right;\n",
       "    }\n",
       "</style>\n",
       "<table border=\"1\" class=\"dataframe\">\n",
       "  <thead>\n",
       "    <tr style=\"text-align: right;\">\n",
       "      <th></th>\n",
       "      <th>tweet_text</th>\n",
       "      <th>is_there_an_emotion_directed_at_a_brand_or_product</th>\n",
       "      <th>original_tweet</th>\n",
       "    </tr>\n",
       "  </thead>\n",
       "  <tbody>\n",
       "    <tr>\n",
       "      <th>0</th>\n",
       "      <td>i have a 3g iphone after three hrs tweeting at...</td>\n",
       "      <td>Negative emotion</td>\n",
       "      <td>.@wesley83 I have a 3G iPhone. After 3 hrs twe...</td>\n",
       "    </tr>\n",
       "    <tr>\n",
       "      <th>1</th>\n",
       "      <td>know about awesome ipadiphone application that...</td>\n",
       "      <td>Positive emotion</td>\n",
       "      <td>@jessedee Know about @fludapp ? Awesome iPad/i...</td>\n",
       "    </tr>\n",
       "    <tr>\n",
       "      <th>2</th>\n",
       "      <td>can not wait for two also they should sale the...</td>\n",
       "      <td>Positive emotion</td>\n",
       "      <td>@swonderlin Can not wait for #iPad 2 also. The...</td>\n",
       "    </tr>\n",
       "    <tr>\n",
       "      <th>3</th>\n",
       "      <td>i hope this years festival isnt as crashy as t...</td>\n",
       "      <td>Negative emotion</td>\n",
       "      <td>@sxsw I hope this year's festival isn't as cra...</td>\n",
       "    </tr>\n",
       "    <tr>\n",
       "      <th>4</th>\n",
       "      <td>great stuff on fri marissa mayer google tim or...</td>\n",
       "      <td>Positive emotion</td>\n",
       "      <td>@sxtxstate great stuff on Fri #SXSW: Marissa M...</td>\n",
       "    </tr>\n",
       "  </tbody>\n",
       "</table>\n",
       "</div>"
      ],
      "text/plain": [
       "                                          tweet_text  \\\n",
       "0  i have a 3g iphone after three hrs tweeting at...   \n",
       "1  know about awesome ipadiphone application that...   \n",
       "2  can not wait for two also they should sale the...   \n",
       "3  i hope this years festival isnt as crashy as t...   \n",
       "4  great stuff on fri marissa mayer google tim or...   \n",
       "\n",
       "  is_there_an_emotion_directed_at_a_brand_or_product  \\\n",
       "0                                   Negative emotion   \n",
       "1                                   Positive emotion   \n",
       "2                                   Positive emotion   \n",
       "3                                   Negative emotion   \n",
       "4                                   Positive emotion   \n",
       "\n",
       "                                      original_tweet  \n",
       "0  .@wesley83 I have a 3G iPhone. After 3 hrs twe...  \n",
       "1  @jessedee Know about @fludapp ? Awesome iPad/i...  \n",
       "2  @swonderlin Can not wait for #iPad 2 also. The...  \n",
       "3  @sxsw I hope this year's festival isn't as cra...  \n",
       "4  @sxtxstate great stuff on Fri #SXSW: Marissa M...  "
      ]
     },
     "execution_count": 25,
     "metadata": {},
     "output_type": "execute_result"
    }
   ],
   "source": [
    "df.head()"
   ]
  },
  {
   "cell_type": "code",
   "execution_count": 26,
   "metadata": {},
   "outputs": [],
   "source": [
    "stopwords_list = stopwords.words('english')  # Getting stopwords from NLTK\n",
    "\n",
    "# converting all product names to lowercase\n",
    "product_names= [str(name).lower() for name in product_names if not pd.isna(name)]\n",
    "# extending the list with lowercase product names\n",
    "stopwords_list.extend(product_names)\n",
    "\n",
    "for index in range(df.tweet_text.shape[0]):\n",
    "    tweet_text = df.tweet_text.iloc[index].split() \n",
    "    tweet_no_stopword = \" \".join([word for word in tweet_text if word not in stopwords_list])\n",
    "    df.tweet_text.iloc[index] = tweet_no_stopword"
   ]
  },
  {
   "cell_type": "code",
   "execution_count": 27,
   "metadata": {},
   "outputs": [
    {
     "data": {
      "text/html": [
       "<div>\n",
       "<style scoped>\n",
       "    .dataframe tbody tr th:only-of-type {\n",
       "        vertical-align: middle;\n",
       "    }\n",
       "\n",
       "    .dataframe tbody tr th {\n",
       "        vertical-align: top;\n",
       "    }\n",
       "\n",
       "    .dataframe thead th {\n",
       "        text-align: right;\n",
       "    }\n",
       "</style>\n",
       "<table border=\"1\" class=\"dataframe\">\n",
       "  <thead>\n",
       "    <tr style=\"text-align: right;\">\n",
       "      <th></th>\n",
       "      <th>tweet_text</th>\n",
       "      <th>is_there_an_emotion_directed_at_a_brand_or_product</th>\n",
       "      <th>original_tweet</th>\n",
       "    </tr>\n",
       "  </thead>\n",
       "  <tbody>\n",
       "    <tr>\n",
       "      <th>0</th>\n",
       "      <td>3g three hrs tweeting dead need upgrade plugin...</td>\n",
       "      <td>Negative emotion</td>\n",
       "      <td>.@wesley83 I have a 3G iPhone. After 3 hrs twe...</td>\n",
       "    </tr>\n",
       "    <tr>\n",
       "      <th>1</th>\n",
       "      <td>know awesome ipadiphone application youll like...</td>\n",
       "      <td>Positive emotion</td>\n",
       "      <td>@jessedee Know about @fludapp ? Awesome iPad/i...</td>\n",
       "    </tr>\n",
       "    <tr>\n",
       "      <th>2</th>\n",
       "      <td>wait two also sale</td>\n",
       "      <td>Positive emotion</td>\n",
       "      <td>@swonderlin Can not wait for #iPad 2 also. The...</td>\n",
       "    </tr>\n",
       "    <tr>\n",
       "      <th>3</th>\n",
       "      <td>hope years festival isnt crashy years app</td>\n",
       "      <td>Negative emotion</td>\n",
       "      <td>@sxsw I hope this year's festival isn't as cra...</td>\n",
       "    </tr>\n",
       "    <tr>\n",
       "      <th>4</th>\n",
       "      <td>great stuff fri marissa mayer tim oreilly tech...</td>\n",
       "      <td>Positive emotion</td>\n",
       "      <td>@sxtxstate great stuff on Fri #SXSW: Marissa M...</td>\n",
       "    </tr>\n",
       "  </tbody>\n",
       "</table>\n",
       "</div>"
      ],
      "text/plain": [
       "                                          tweet_text  \\\n",
       "0  3g three hrs tweeting dead need upgrade plugin...   \n",
       "1  know awesome ipadiphone application youll like...   \n",
       "2                                 wait two also sale   \n",
       "3          hope years festival isnt crashy years app   \n",
       "4  great stuff fri marissa mayer tim oreilly tech...   \n",
       "\n",
       "  is_there_an_emotion_directed_at_a_brand_or_product  \\\n",
       "0                                   Negative emotion   \n",
       "1                                   Positive emotion   \n",
       "2                                   Positive emotion   \n",
       "3                                   Negative emotion   \n",
       "4                                   Positive emotion   \n",
       "\n",
       "                                      original_tweet  \n",
       "0  .@wesley83 I have a 3G iPhone. After 3 hrs twe...  \n",
       "1  @jessedee Know about @fludapp ? Awesome iPad/i...  \n",
       "2  @swonderlin Can not wait for #iPad 2 also. The...  \n",
       "3  @sxsw I hope this year's festival isn't as cra...  \n",
       "4  @sxtxstate great stuff on Fri #SXSW: Marissa M...  "
      ]
     },
     "execution_count": 27,
     "metadata": {},
     "output_type": "execute_result"
    }
   ],
   "source": [
    "df.head()"
   ]
  },
  {
   "cell_type": "markdown",
   "metadata": {},
   "source": [
    "### Tokenization"
   ]
  },
  {
   "cell_type": "code",
   "execution_count": 28,
   "metadata": {},
   "outputs": [],
   "source": [
    "tokens_list = []\n",
    "for index in range(df.tweet_text.shape[0]):\n",
    "    df.tweet_text.iloc[index] = word_tokenize(df.tweet_text.iloc[index])"
   ]
  },
  {
   "cell_type": "code",
   "execution_count": 29,
   "metadata": {},
   "outputs": [
    {
     "data": {
      "text/html": [
       "<div>\n",
       "<style scoped>\n",
       "    .dataframe tbody tr th:only-of-type {\n",
       "        vertical-align: middle;\n",
       "    }\n",
       "\n",
       "    .dataframe tbody tr th {\n",
       "        vertical-align: top;\n",
       "    }\n",
       "\n",
       "    .dataframe thead th {\n",
       "        text-align: right;\n",
       "    }\n",
       "</style>\n",
       "<table border=\"1\" class=\"dataframe\">\n",
       "  <thead>\n",
       "    <tr style=\"text-align: right;\">\n",
       "      <th></th>\n",
       "      <th>tweet_text</th>\n",
       "      <th>is_there_an_emotion_directed_at_a_brand_or_product</th>\n",
       "      <th>original_tweet</th>\n",
       "    </tr>\n",
       "  </thead>\n",
       "  <tbody>\n",
       "    <tr>\n",
       "      <th>0</th>\n",
       "      <td>[3g, three, hrs, tweeting, dead, need, upgrade...</td>\n",
       "      <td>Negative emotion</td>\n",
       "      <td>.@wesley83 I have a 3G iPhone. After 3 hrs twe...</td>\n",
       "    </tr>\n",
       "    <tr>\n",
       "      <th>1</th>\n",
       "      <td>[know, awesome, ipadiphone, application, youll...</td>\n",
       "      <td>Positive emotion</td>\n",
       "      <td>@jessedee Know about @fludapp ? Awesome iPad/i...</td>\n",
       "    </tr>\n",
       "    <tr>\n",
       "      <th>2</th>\n",
       "      <td>[wait, two, also, sale]</td>\n",
       "      <td>Positive emotion</td>\n",
       "      <td>@swonderlin Can not wait for #iPad 2 also. The...</td>\n",
       "    </tr>\n",
       "    <tr>\n",
       "      <th>3</th>\n",
       "      <td>[hope, years, festival, isnt, crashy, years, app]</td>\n",
       "      <td>Negative emotion</td>\n",
       "      <td>@sxsw I hope this year's festival isn't as cra...</td>\n",
       "    </tr>\n",
       "    <tr>\n",
       "      <th>4</th>\n",
       "      <td>[great, stuff, fri, marissa, mayer, tim, oreil...</td>\n",
       "      <td>Positive emotion</td>\n",
       "      <td>@sxtxstate great stuff on Fri #SXSW: Marissa M...</td>\n",
       "    </tr>\n",
       "  </tbody>\n",
       "</table>\n",
       "</div>"
      ],
      "text/plain": [
       "                                          tweet_text  \\\n",
       "0  [3g, three, hrs, tweeting, dead, need, upgrade...   \n",
       "1  [know, awesome, ipadiphone, application, youll...   \n",
       "2                            [wait, two, also, sale]   \n",
       "3  [hope, years, festival, isnt, crashy, years, app]   \n",
       "4  [great, stuff, fri, marissa, mayer, tim, oreil...   \n",
       "\n",
       "  is_there_an_emotion_directed_at_a_brand_or_product  \\\n",
       "0                                   Negative emotion   \n",
       "1                                   Positive emotion   \n",
       "2                                   Positive emotion   \n",
       "3                                   Negative emotion   \n",
       "4                                   Positive emotion   \n",
       "\n",
       "                                      original_tweet  \n",
       "0  .@wesley83 I have a 3G iPhone. After 3 hrs twe...  \n",
       "1  @jessedee Know about @fludapp ? Awesome iPad/i...  \n",
       "2  @swonderlin Can not wait for #iPad 2 also. The...  \n",
       "3  @sxsw I hope this year's festival isn't as cra...  \n",
       "4  @sxtxstate great stuff on Fri #SXSW: Marissa M...  "
      ]
     },
     "execution_count": 29,
     "metadata": {},
     "output_type": "execute_result"
    }
   ],
   "source": [
    "df.head()"
   ]
  },
  {
   "cell_type": "markdown",
   "metadata": {},
   "source": [
    "### Lemmatization"
   ]
  },
  {
   "cell_type": "code",
   "execution_count": 30,
   "metadata": {},
   "outputs": [],
   "source": [
    "lemmatizer = WordNetLemmatizer()\n",
    "\n",
    "for index in range(df.tweet_text.shape[0]):\n",
    "    text = df.tweet_text.iloc[index]\n",
    "    tweet_text =[lemmatizer.lemmatize(word) for word in text]"
   ]
  },
  {
   "cell_type": "markdown",
   "metadata": {
    "id": "XVKxmVvOaUgA"
   },
   "source": [
    "#  Analysis"
   ]
  },
  {
   "cell_type": "code",
   "execution_count": 31,
   "metadata": {},
   "outputs": [
    {
     "name": "stdout",
     "output_type": "stream",
     "text": [
      "[('link', 4284), ('retweet', 2903), ('store', 1465), ('two', 1257), ('new', 1093), ('austin', 842), ('amp', 722), ('application', 655), ('launch', 643), ('social', 623), ('popup', 597), ('today', 576), ('one', 537), ('circles', 528), ('sxsw', 482), ('network', 462), ('via', 435), ('line', 399), ('get', 393), ('hundred', 377), ('free', 364), ('called', 361), ('party', 332), ('major', 302), ('mobile', 300), ('like', 289), ('time', 272), ('temporary', 264), ('opening', 256), ('people', 255), ('im', 251), ('possibly', 244), ('great', 223), ('downtown', 222), ('see', 220), ('going', 218), ('day', 216), ('check', 215), ('maps', 214), ('thousand', 214), ('open', 210), ('go', 207), ('need', 203), ('mayer', 203), ('dont', 202), ('marissa', 192), ('four', 185), ('got', 183), ('know', 181), ('googles', 179), ('three', 174), ('come', 174), ('applications', 168), ('\\x89ûï', 167), ('win', 166), ('first', 166), ('good', 165), ('us', 162), ('pop', 160), ('ipad2', 159), ('next', 148), ('want', 146), ('love', 145), ('cool', 143), ('panel', 142), ('shop', 142), ('eleven', 140), ('design', 138), ('best', 138), ('game', 135), ('make', 135), ('thanks', 135), ('news', 134), ('app', 133), ('think', 133), ('big', 129), ('set', 128), ('search', 128), ('use', 128), ('awesome', 126), ('would', 126), ('around', 125), ('last', 124), ('music', 123), ('users', 122), ('talk', 121), (',', 120), ('show', 119), ('anyone', 118), ('video', 118), ('using', 115), ('right', 114), ('says', 114), ('download', 113), ('five', 112), ('rumor', 110), ('really', 109), ('guy', 109), ('even', 109), ('launching', 108), ('session', 108), ('still', 107), ('year', 104), ('coming', 103), ('location', 101), ('congress', 100), ('booth', 100), ('hey', 99), ('ipads', 99), ('buy', 97), ('team', 96), ('case', 96), ('future', 96), ('6th', 96), ('way', 96), ('heard', 95), ('week', 95), ('products', 95), ('apples', 93), ('tonight', 89), ('digital', 89), ('ive', 89), ('well', 89), ('twitter', 87), ('find', 86), ('cant', 85), ('everyone', 85), ('may', 84), ('blackberry', 84), ('fun', 84), ('phone', 84), ('youre', 84), ('thing', 83), ('back', 83), ('look', 82), ('looking', 81), ('getting', 81), ('could', 81), ('nice', 80), ('ten', 80), ('also', 79), ('many', 79), ('2s', 79), ('away', 79), ('ever', 78), ('web', 78), ('facebook', 77), ('wait', 76), ('temp', 76), ('designing', 75), ('tv', 75), ('yes', 74), ('long', 73), ('already', 73), ('wins', 73), ('giving', 71), ('quotgoogle', 71), ('bing', 71), ('includes', 69), ('uberguide', 69), ('interesting', 69), ('live', 69), ('thirty', 68), ('much', 68), ('ill', 67), ('oh', 67), ('fast', 67), ('interactive', 67), ('ready', 67), ('others', 67), ('looks', 66), ('take', 66), ('available', 66), ('every', 66), ('please', 66), ('sure', 65), ('tomorrow', 65), ('night', 65), ('made', 65), ('work', 64), ('smart', 63), ('sell', 63), ('friends', 63), ('product', 63), ('someone', 62), ('platform', 61), ('tweet', 61), ('gets', 61), ('cc', 61), ('twenty', 61), ('action', 61), ('itunes', 60), ('details', 60), ('street', 60), ('keep', 60), ('nine', 60), ('yet', 59), ('battery', 59), ('better', 59), ('years', 58)]\n"
     ]
    }
   ],
   "source": [
    "from nltk import FreqDist\n",
    "tokens = []\n",
    "for index in range(df.tweet_text.shape[0]):\n",
    "    text=df.tweet_text.iloc[index]\n",
    "    for word in text:tokens.append(word)\n",
    "# Step 2: Create frequency distribution from the tokens\n",
    "freqdist = FreqDist(tokens)\n",
    "\n",
    "# Step 3: Get the 200 most common words (or less if there are fewer than 200)\n",
    "most_common = freqdist.most_common(200)\n",
    "\n",
    "# Step 4: Print or use the result\n",
    "print(most_common)"
   ]
  },
  {
   "cell_type": "code",
   "execution_count": 32,
   "metadata": {},
   "outputs": [
    {
     "data": {
      "image/png": "[encoded data removed]",
      "text/plain": [
       "<Figure size 720x432 with 1 Axes>"
      ]
     },
     "metadata": {
      "needs_background": "light"
     },
     "output_type": "display_data"
    }
   ],
   "source": [
    "import matplotlib.pyplot as plt\n",
    "\n",
    "# Get the top 20 most common words for visualization\n",
    "top_20 = freqdist.most_common(20)\n",
    "\n",
    "# Split the words and their frequencies into separate lists\n",
    "words, frequencies = zip(*top_20)\n",
    "\n",
    "# Plotting\n",
    "plt.figure(figsize=(10, 6))\n",
    "plt.bar(words, frequencies)\n",
    "plt.xticks(rotation=90)  # Rotate x-axis labels for better readability\n",
    "plt.title('Top 20 Most Common Words in Tweets')\n",
    "plt.xlabel('Words')\n",
    "plt.ylabel('Frequency')\n",
    "plt.show()"
   ]
  },
  {
   "cell_type": "markdown",
   "metadata": {
    "id": "hXeipaC8a3Xd"
   },
   "source": [
    "# Preprocessing"
   ]
  },
  {
   "cell_type": "markdown",
   "metadata": {
    "id": "o4HgYojaa7cG"
   },
   "source": [
    "# Modeling"
   ]
  },
  {
   "cell_type": "markdown",
   "metadata": {
    "id": "AF35QpfOa9PS"
   },
   "source": [
    "# Evaluation"
   ]
  },
  {
   "cell_type": "markdown",
   "metadata": {
    "id": "tFkac30fbEbi"
   },
   "source": [
    "# Conclusion"
   ]
  }
 ],
 "metadata": {
  "colab": {
   "provenance": []
  },
  "kernelspec": {
   "display_name": "Python 3 (ipykernel)",
   "language": "python",
   "name": "python3"
  },
  "language_info": {
   "codemirror_mode": {
    "name": "ipython",
    "version": 3
   },
   "file_extension": ".py",
   "mimetype": "text/x-python",
   "name": "python",
   "nbconvert_exporter": "python",
   "pygments_lexer": "ipython3",
   "version": "3.9.7"
  },
  "toc": {
   "base_numbering": 1,
   "nav_menu": {},
   "number_sections": true,
   "sideBar": true,
   "skip_h1_title": false,
   "title_cell": "Table of Contents",
   "title_sidebar": "Contents",
   "toc_cell": false,
   "toc_position": {},
   "toc_section_display": true,
   "toc_window_display": false
  }
 },
 "nbformat": 4,
 "nbformat_minor": 1
}
